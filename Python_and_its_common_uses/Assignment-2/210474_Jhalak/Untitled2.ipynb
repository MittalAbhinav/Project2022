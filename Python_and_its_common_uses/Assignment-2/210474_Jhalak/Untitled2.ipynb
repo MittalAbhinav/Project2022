{
  "nbformat": 4,
  "nbformat_minor": 0,
  "metadata": {
    "colab": {
      "name": "Untitled2.ipynb",
      "provenance": [],
      "collapsed_sections": []
    },
    "kernelspec": {
      "name": "python3",
      "display_name": "Python 3"
    },
    "language_info": {
      "name": "python"
    }
  },
  "cells": [
    {
      "cell_type": "code",
      "execution_count": null,
      "metadata": {
        "colab": {
          "base_uri": "https://localhost:8080/",
          "height": 582
        },
        "id": "Jc0LMayXNN1t",
        "outputId": "c8a152a8-dda8-4d93-c22b-03c4b5df39c9"
      },
      "outputs": [
        {
          "output_type": "stream",
          "name": "stdout",
          "text": [
            "None\n",
            "None\n",
            "None\n",
            "None\n",
            "None\n",
            "<a class=\"jwts_toggleControl\" href=\"#\" title=\"Click to open!\">\n",
            "<span class=\"jwts_togglePlus\">+</span>\n",
            "<span class=\"jwts_toggleMinus\">-</span>\n",
            "<span class=\"jwts_toggleControlTitle\">Aerospace Engineering</span>\n",
            "<span class=\"jwts_toggleControlNotice\">Click to collapse</span>\n",
            "<span class=\"jwts_clr\"></span>\n",
            "</a>\n",
            "<a href=\"/new/dr-a-k-ghosh\">A. K. Ghosh</a>\n"
          ]
        },
        {
          "output_type": "error",
          "ename": "AttributeError",
          "evalue": "ignored",
          "traceback": [
            "\u001b[0;31m---------------------------------------------------------------------------\u001b[0m",
            "\u001b[0;31mAttributeError\u001b[0m                            Traceback (most recent call last)",
            "\u001b[0;32m<ipython-input-1-73719d143888>\u001b[0m in \u001b[0;36m<module>\u001b[0;34m()\u001b[0m\n\u001b[1;32m     31\u001b[0m                         \u001b[0mprof_names\u001b[0m\u001b[0;34m.\u001b[0m\u001b[0mappend\u001b[0m\u001b[0;34m(\u001b[0m\u001b[0;34m\" \"\u001b[0m\u001b[0;34m)\u001b[0m\u001b[0;34m\u001b[0m\u001b[0;34m\u001b[0m\u001b[0m\n\u001b[1;32m     32\u001b[0m                 \u001b[0;32melif\u001b[0m \u001b[0mi\u001b[0m\u001b[0;34m==\u001b[0m\u001b[0;36m1\u001b[0m\u001b[0;34m:\u001b[0m\u001b[0;34m\u001b[0m\u001b[0;34m\u001b[0m\u001b[0m\n\u001b[0;32m---> 33\u001b[0;31m                     \u001b[0;32mif\u001b[0m \u001b[0mchild\u001b[0m\u001b[0;34m.\u001b[0m\u001b[0mget_text\u001b[0m\u001b[0;34m(\u001b[0m\u001b[0;34m)\u001b[0m\u001b[0;34m:\u001b[0m\u001b[0;34m\u001b[0m\u001b[0;34m\u001b[0m\u001b[0m\n\u001b[0m\u001b[1;32m     34\u001b[0m                         \u001b[0mprof_emails\u001b[0m\u001b[0;34m.\u001b[0m\u001b[0mappend\u001b[0m\u001b[0;34m(\u001b[0m\u001b[0mchild\u001b[0m\u001b[0;34m.\u001b[0m\u001b[0mget_text\u001b[0m\u001b[0;34m(\u001b[0m\u001b[0;34m)\u001b[0m\u001b[0;34m)\u001b[0m\u001b[0;34m\u001b[0m\u001b[0;34m\u001b[0m\u001b[0m\n\u001b[1;32m     35\u001b[0m                     \u001b[0;32melse\u001b[0m\u001b[0;34m:\u001b[0m\u001b[0;34m\u001b[0m\u001b[0;34m\u001b[0m\u001b[0m\n",
            "\u001b[0;32m/usr/local/lib/python3.7/dist-packages/bs4/element.py\u001b[0m in \u001b[0;36m__getattr__\u001b[0;34m(self, attr)\u001b[0m\n\u001b[1;32m    795\u001b[0m             raise AttributeError(\n\u001b[1;32m    796\u001b[0m                 \"'%s' object has no attribute '%s'\" % (\n\u001b[0;32m--> 797\u001b[0;31m                     self.__class__.__name__, attr))\n\u001b[0m\u001b[1;32m    798\u001b[0m \u001b[0;34m\u001b[0m\u001b[0m\n\u001b[1;32m    799\u001b[0m     \u001b[0;32mdef\u001b[0m \u001b[0moutput_ready\u001b[0m\u001b[0;34m(\u001b[0m\u001b[0mself\u001b[0m\u001b[0;34m,\u001b[0m \u001b[0mformatter\u001b[0m\u001b[0;34m=\u001b[0m\u001b[0;34m\"minimal\"\u001b[0m\u001b[0;34m)\u001b[0m\u001b[0;34m:\u001b[0m\u001b[0;34m\u001b[0m\u001b[0;34m\u001b[0m\u001b[0m\n",
            "\u001b[0;31mAttributeError\u001b[0m: 'NavigableString' object has no attribute 'get_text'"
          ]
        }
      ],
      "source": [
        "import pandas as pd\n",
        "import requests\n",
        "from bs4 import BeautifulSoup\n",
        "\n",
        "url=\"https://iitk.ac.in/new/iitk-faculty\"\n",
        "page=requests.get(url)\n",
        "\n",
        "\n",
        "soup = BeautifulSoup(page.content, 'html.parser')\n",
        "tds = soup.body.find_all('p')\n",
        "\n",
        "prof_names=list()\n",
        "prof_emails=list()\n",
        "prof_phones=list()\n",
        "\n",
        "research_int=list()\n",
        "education=list()\n",
        "for i in tds:\n",
        "    # print(item)\n",
        "    emailid=i.find('a')\n",
        "    print(emailid)\n",
        "    if(emailid!=None):\n",
        "        if(emailid.get('href')!='#'):\n",
        "            i=0\n",
        "            for child in i.children:\n",
        "                # print(child)\n",
        "                if i==0:\n",
        "                    if child.get_text():\n",
        "                        prof_names.append(child.get_text())\n",
        "                    else:\n",
        "                        prof_names.append(\" \")\n",
        "                elif i==1:\n",
        "                    if child.get_text():\n",
        "                        prof_emails.append(child.get_text())\n",
        "                    else:\n",
        "                        prof_emails.append(\" \")\n",
        "                elif i==3:\n",
        "                    if child.get_text():\n",
        "                        education.append(child.get_text())\n",
        "                    else:\n",
        "                        education.append(\" \")\n",
        "                elif i==5:\n",
        "                    if child.get_text():\n",
        "                        prof_phones.append(child.get_text())\n",
        "                    else:\n",
        "                        prof_phones.append(\" \")\n",
        "                elif i==7:\n",
        "                    if child.get_text():\n",
        "                        research_int.append(child.get_text())\n",
        "                    else:\n",
        "                        research_int.append(\" \")\n",
        "                i=i+1\n",
        "l= min(len(prof_names), len(prof_emails), len(prof_phones), len(education), len(research_int))\n",
        "names=prof_names[0:l:]\n",
        "emails=prof_emails[0:l:]\n",
        "phones=prof_phones[0:l:]\n",
        "education=education[0:l:]\n",
        "research_int=research_int[0:l:]\n",
        "data = {'Names': names, 'Email Id': emails, 'Contact': phones, 'Education': education, 'Research Interests': research_int};\n",
        "df = pd.DataFrame(data) \n",
        "df.to_csv('home.csv',index=False)"
      ]
    }
  ]
}