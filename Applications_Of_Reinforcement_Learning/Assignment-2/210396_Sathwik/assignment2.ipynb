{
 "cells": [
  {
   "cell_type": "code",
   "execution_count": 382,
   "metadata": {},
   "outputs": [],
   "source": [
    "import numpy as np\n",
    "import pandas as pd\n",
    "import matplotlib.pyplot as mp"
   ]
  },
  {
   "cell_type": "markdown",
   "metadata": {},
   "source": [
    "### Normalisation function\n",
    "\n",
    "- Normalising values to ensures that all values in same range"
   ]
  },
  {
   "cell_type": "code",
   "execution_count": 383,
   "metadata": {},
   "outputs": [],
   "source": [
    "def normal(matrix):\n",
    "    var1=matrix.mean()\n",
    "    c1=matrix.max()\n",
    "    c2=matrix.min()\n",
    "    var2=c1-c2\n",
    "    nor_mat=(matrix-var1)/var2\n",
    "    return nor_mat,var1,var2\n",
    "\n"
   ]
  },
  {
   "cell_type": "markdown",
   "metadata": {},
   "source": [
    "### Cost function"
   ]
  },
  {
   "cell_type": "code",
   "execution_count": 384,
   "metadata": {},
   "outputs": [],
   "source": [
    "def cost(matrix,array,features):\n",
    "    value=0\n",
    "    sqoferr=(matrix.dot(features)-array)**2\n",
    "    for i in range(matrix.shape[0]):\n",
    "        value=value + sqoferr[i,0]  \n",
    "    return value\n"
   ]
  },
  {
   "cell_type": "markdown",
   "metadata": {},
   "source": [
    "### Gradient descent\n"
   ]
  },
  {
   "cell_type": "code",
   "execution_count": 385,
   "metadata": {},
   "outputs": [],
   "source": [
    "def gradientdescent(matrix,array,features,epoch,alpha):\n",
    "    cost1=np.zeros((epoch,1))\n",
    "    for i in range(epoch):\n",
    "        error=(matrix@(features))-array\n",
    "        error_2=matrix.T@error\n",
    "        features=features-alpha/(matrix.shape[0])*error_2\n",
    "        cost1[i]=cost(matrix,array,features)\n",
    "\n",
    "    return cost1,features\n",
    "\n"
   ]
  },
  {
   "cell_type": "markdown",
   "metadata": {},
   "source": [
    "#### splitting and stacking functions:"
   ]
  },
  {
   "cell_type": "code",
   "execution_count": 386,
   "metadata": {},
   "outputs": [],
   "source": [
    "def split(matrix,rat):\n",
    "    m=matrix.shape[0]\n",
    "    n=int(m*rat)\n",
    "    train_data=matrix[0:n]\n",
    "    test_data=matrix[n:m]\n",
    "    return train_data,test_data\n",
    "\n",
    "def stack(matrix):\n",
    "    ones=np.ones((matrix.shape[0],1))\n",
    "    mat_stac=np.hstack((ones,matrix))\n",
    "    return mat_stac"
   ]
  },
  {
   "cell_type": "markdown",
   "metadata": {},
   "source": [
    "### Function for Importing data"
   ]
  },
  {
   "cell_type": "code",
   "execution_count": 387,
   "metadata": {},
   "outputs": [],
   "source": [
    "def dataimport(url,maggi):\n",
    "    my_data=pd.read_csv(url, skipinitialspace=True, usecols=maggi).values\n",
    "    price_data=pd.read_csv(url, skipinitialspace=True, usecols=['price']).values\n",
    "    return my_data, price_data"
   ]
  },
  {
   "cell_type": "code",
   "execution_count": 388,
   "metadata": {},
   "outputs": [],
   "source": [
    "def graph(cost,epoch):\n",
    "    mp.plot(range(epoch),cost)\n",
    "    mp.xlabel(\"iterations\")\n",
    "    mp.ylabel(\"cost\")\n",
    "    mp.title(\"cost vs iterations\")\n",
    "    return mp.show()\n"
   ]
  },
  {
   "cell_type": "code",
   "execution_count": 389,
   "metadata": {},
   "outputs": [],
   "source": [
    "def predict(matrix,features):\n",
    "    y_predict=matrix@features\n",
    "    return y_predict"
   ]
  },
  {
   "cell_type": "code",
   "execution_count": 390,
   "metadata": {},
   "outputs": [],
   "source": [
    "maggi=['carlength','carwidth','carheight','enginesize','stroke','horsepower']\n",
    "url=\"https://raw.githubusercontent.com/lumidenoir/Project2022/assignment/Applications_Of_Reinforcement_Learning/Assignment-2/210299_krishna%20dantu/CarPrice_Assignment.csv\"\n",
    "my_data,price_data=dataimport(url,maggi)\n",
    "theta=np.zeros((my_data.shape[1]+1,1))\n",
    "sathwikprices=[[190.9,70.3,54.9,183,3.64,123]]\n",
    "alpha=0.1\n",
    "epoch=10000"
   ]
  },
  {
   "cell_type": "code",
   "execution_count": 391,
   "metadata": {},
   "outputs": [],
   "source": [
    "my_data,fac1,fac2=normal(my_data)\n",
    "price_data,fac3,fac4=normal(price_data)\n",
    "my_data=stack(my_data)\n",
    "train_data,test_data=split(my_data,0.8)\n",
    "price_train,price_test=split(price_data,0.8)"
   ]
  },
  {
   "cell_type": "code",
   "execution_count": 392,
   "metadata": {},
   "outputs": [
    {
     "data": {
      "image/png": "[encoded data removed]",
      "text/plain": [
       "<Figure size 432x288 with 1 Axes>"
      ]
     },
     "metadata": {
      "needs_background": "light"
     },
     "output_type": "display_data"
    }
   ],
   "source": [
    "cost, theta = gradientdescent(train_data,price_train,theta,epoch,alpha)\n",
    "graph(cost,epoch)"
   ]
  },
  {
   "cell_type": "code",
   "execution_count": 393,
   "metadata": {},
   "outputs": [
    {
     "name": "stdout",
     "output_type": "stream",
     "text": [
      "22087.928844835988\n"
     ]
    }
   ],
   "source": [
    "sathwikprices=(sathwikprices-fac1)/fac2\n",
    "query=stack(sathwikprices)\n",
    "q_pre=predict(query,theta)\n",
    "price=q_pre[0,0]*fac4+fac3\n",
    "print(price)"
   ]
  },
  {
   "cell_type": "code",
   "execution_count": null,
   "metadata": {},
   "outputs": [],
   "source": []
  }
 ],
 "metadata": {
  "kernelspec": {
   "display_name": "Python 3.10.4 64-bit",
   "language": "python",
   "name": "python3"
  },
  "language_info": {
   "codemirror_mode": {
    "name": "ipython",
    "version": 3
   },
   "file_extension": ".py",
   "mimetype": "text/x-python",
   "name": "python",
   "nbconvert_exporter": "python",
   "pygments_lexer": "ipython3",
   "version": "3.10.4"
  },
  "orig_nbformat": 4,
  "vscode": {
   "interpreter": {
    "hash": "dc3c3c4bc843b2d8c36cd6316d0d58a3adde2608e96e397ec27e7716ad40c3a8"
   }
  }
 },
 "nbformat": 4,
 "nbformat_minor": 2
}
