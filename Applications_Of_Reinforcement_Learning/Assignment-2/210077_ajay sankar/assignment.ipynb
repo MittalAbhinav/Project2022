{
 "cells": [
  {
   "cell_type": "markdown",
   "metadata": {},
   "source": [
    "## importing required libraries\n"
   ]
  },
  {
   "cell_type": "code",
   "execution_count": 156,
   "metadata": {},
   "outputs": [],
   "source": [
    "import numpy as np\n",
    "import pandas as pd\n",
    "import matplotlib.pyplot as plt\n",
    "from sklearn.linear_model import LinearRegression\n",
    "url=\"https://raw.githubusercontent.com/lumidenoir/Project2022/assignment/Applications_Of_Reinforcement_Learning/Assignment-2/210299_krishna%20dantu/CarPrice_Assignment.csv\"\n",
    "given=[[190.9,70.3,54.9,183,3.64,123]]\n",
    "alpha=0.01\n",
    "cycle=5000\n"
   ]
  },
  {
   "cell_type": "markdown",
   "metadata": {},
   "source": [
    "### split\n"
   ]
  },
  {
   "cell_type": "code",
   "execution_count": 157,
   "metadata": {},
   "outputs": [],
   "source": [
    "def splitting(mat,rat):\n",
    "    training=mat.iloc[0:(int((mat.shape[0])*rat))].values\n",
    "    testing=mat.iloc[(int((mat.shape[0])*rat)):mat.shape[0]].values\n",
    "    return training,testing\n"
   ]
  },
  {
   "cell_type": "markdown",
   "metadata": {},
   "source": [
    "### stack"
   ]
  },
  {
   "cell_type": "code",
   "execution_count": 158,
   "metadata": {},
   "outputs": [],
   "source": [
    "def concate(mat):\n",
    "    mat_stack=np.concatenate((np.ones((mat.shape[0],1)),mat), axis=1)\n",
    "    return mat_stack"
   ]
  },
  {
   "cell_type": "markdown",
   "metadata": {},
   "source": [
    "### gradient"
   ]
  },
  {
   "cell_type": "code",
   "execution_count": 159,
   "metadata": {},
   "outputs": [],
   "source": [
    "def gradient(X,Y,Theta,cycle,alpha):\n",
    "    cost=np.zeros(cycle)\n",
    "    for i in range(cycle):\n",
    "        error=((X.dot(Theta.T))-Y)\n",
    "        multiplyerror=(error.T@X)\n",
    "        Theta=Theta-(alpha/X.shape[1])*multiplyerror\n",
    "        cost[i]=Cost(X,Y,Theta)\n",
    "    return Theta,cost \n",
    "     "
   ]
  },
  {
   "cell_type": "markdown",
   "metadata": {},
   "source": [
    "### Cost"
   ]
  },
  {
   "cell_type": "code",
   "execution_count": 160,
   "metadata": {},
   "outputs": [],
   "source": [
    "def Cost(X,Y,Theta):\n",
    "    return 1/(2*X.shape[0])*(np.sum(((X.dot(Theta.T))-Y)**2))"
   ]
  },
  {
   "cell_type": "markdown",
   "metadata": {},
   "source": [
    "### normalization"
   ]
  },
  {
   "cell_type": "code",
   "execution_count": 161,
   "metadata": {},
   "outputs": [],
   "source": [
    "def normalization(mat):\n",
    "    fac1=mat.min()\n",
    "    fac2=mat.max()-mat.min()\n",
    "    mat_nor=(mat-fac1)/(fac2)\n",
    "    return mat_nor, fac1,fac2"
   ]
  },
  {
   "cell_type": "markdown",
   "metadata": {},
   "source": [
    "### standard normalization"
   ]
  },
  {
   "cell_type": "code",
   "execution_count": 162,
   "metadata": {},
   "outputs": [],
   "source": [
    "def snormalization(mat):\n",
    "    return (mat-mat.mean())/mat.std() "
   ]
  },
  {
   "cell_type": "markdown",
   "metadata": {},
   "source": [
    "### prediction"
   ]
  },
  {
   "cell_type": "code",
   "execution_count": 163,
   "metadata": {},
   "outputs": [],
   "source": [
    "def prediction(X,Theta):\n",
    "    return X.dot(Theta.T)"
   ]
  },
  {
   "cell_type": "markdown",
   "metadata": {},
   "source": [
    "### r2"
   ]
  },
  {
   "cell_type": "code",
   "execution_count": 164,
   "metadata": {},
   "outputs": [],
   "source": [
    "def r2(Ypr,Y):\n",
    "    return 1- {(np.sum((Ypr-Y)**2))/(np.sum((Y-Y.mean())**2))}"
   ]
  },
  {
   "cell_type": "markdown",
   "metadata": {},
   "source": [
    "### import data"
   ]
  },
  {
   "cell_type": "code",
   "execution_count": 165,
   "metadata": {},
   "outputs": [],
   "source": [
    "my_data=pd.read_csv(url, skipinitialspace=True, usecols=['carlength','carwidth','carheight','enginesize','stroke','horsepower'])\n",
    "price_data=pd.read_csv(url,skipinitialspace=True,usecols=['price'])\n",
    "Theta=np.zeros((1,my_data.shape[1]+1))"
   ]
  },
  {
   "cell_type": "markdown",
   "metadata": {},
   "source": [
    "### 80:20\n"
   ]
  },
  {
   "cell_type": "code",
   "execution_count": 166,
   "metadata": {},
   "outputs": [],
   "source": [
    "My_data,fac1,fac2=normalization(my_data)\n",
    "Price_data,fac3,fac4=normalization(price_data)\n",
    "\n",
    "\n",
    "train_data,test_data=splitting(My_data,0.8)\n",
    "train_price,test_price=splitting(Price_data,0.8)"
   ]
  },
  {
   "cell_type": "markdown",
   "metadata": {},
   "source": [
    "#  ,calculate gradient and stacking a column"
   ]
  },
  {
   "cell_type": "code",
   "execution_count": 167,
   "metadata": {},
   "outputs": [],
   "source": [
    "\n",
    "train_data=concate(train_data)\n",
    "test_data=concate(test_data)\n",
    "\n",
    "Theta,Cost=gradient(train_data,train_price,Theta,cycle,alpha)\n"
   ]
  },
  {
   "cell_type": "markdown",
   "metadata": {},
   "source": [
    "### graph"
   ]
  },
  {
   "cell_type": "code",
   "execution_count": 168,
   "metadata": {},
   "outputs": [
    {
     "data": {
      "image/png": "[encoded data removed]",
      "text/plain": [
       "<Figure size 432x288 with 1 Axes>"
      ]
     },
     "metadata": {
      "needs_background": "light"
     },
     "output_type": "display_data"
    }
   ],
   "source": [
    "plt.plot(range(cycle),Cost,label=\"normal\")\n",
    "plt.xlabel('iteration')\n",
    "plt.ylabel('price')\n",
    "plt.grid()\n",
    "plt.show()"
   ]
  },
  {
   "cell_type": "markdown",
   "metadata": {},
   "source": [
    "### predicting price"
   ]
  },
  {
   "cell_type": "code",
   "execution_count": 169,
   "metadata": {},
   "outputs": [
    {
     "name": "stdout",
     "output_type": "stream",
     "text": [
      "PRICE: 22811.753940809955\n"
     ]
    }
   ],
   "source": [
    "given_nor=concate((given-np.array(fac1))/np.array(fac2))\n",
    "given_predict=prediction(given_nor,Theta)\n",
    "predict_convert=given_predict[0,0]*fac4+fac3\n",
    "print(\"PRICE:\",float(predict_convert))"
   ]
  }
 ],
 "metadata": {
  "kernelspec": {
   "display_name": "Python 3.10.4 64-bit",
   "language": "python",
   "name": "python3"
  },
  "language_info": {
   "codemirror_mode": {
    "name": "ipython",
    "version": 3
   },
   "file_extension": ".py",
   "mimetype": "text/x-python",
   "name": "python",
   "nbconvert_exporter": "python",
   "pygments_lexer": "ipython3",
   "version": "3.10.4"
  },
  "orig_nbformat": 4,
  "vscode": {
   "interpreter": {
    "hash": "916dbcbb3f70747c44a77c7bcd40155683ae19c65e1c03b4aa3499c5328201f1"
   }
  }
 },
 "nbformat": 4,
 "nbformat_minor": 2
}
