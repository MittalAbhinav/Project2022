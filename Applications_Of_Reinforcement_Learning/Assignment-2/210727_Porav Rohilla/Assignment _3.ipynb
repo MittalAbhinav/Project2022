{
 "cells": [
  {
   "cell_type": "code",
   "execution_count": 23,
   "metadata": {},
   "outputs": [],
   "source": [
    "import numpy as np\n",
    "import pandas as pd"
   ]
  },
  {
   "cell_type": "markdown",
   "metadata": {},
   "source": [
    "#### IMPORTING DATA SET AND SPLITTING IT INTO TRAINING AND TESTING SETS"
   ]
  },
  {
   "cell_type": "code",
   "execution_count": 24,
   "metadata": {},
   "outputs": [],
   "source": [
    "dset = pd.read_csv('CarPrice_Assignment (1).csv')\n",
    "length=len(dset)\n",
    "train = dset.loc[1:0.8*length,:]\n",
    "test=dset.loc[0.8*length:length,:]\n",
    "a = dset['carlength']\n",
    "b = dset['carwidth']\n",
    "c = dset['carheight']\n",
    "d = dset['enginesize']\n",
    "e = dset['stroke']\n",
    "f = dset['horsepower']\n",
    "y = dset['price']"
   ]
  },
  {
   "cell_type": "markdown",
   "metadata": {},
   "source": [
    "#### DEFINING COST FUCNTION AND PARTIAL DERIVATIVES OF THE COST FUNCTION wrt PARAMETERS"
   ]
  },
  {
   "cell_type": "code",
   "execution_count": 25,
   "metadata": {},
   "outputs": [],
   "source": [
    "def cost_fun(w1, w2, w3, w4, w5, w6):\n",
    "    k = 0.0\n",
    "    for i in range (1, int(0.8*length)):\n",
    "        k += (w1*a[i] + w2*b[i] + w3*c[i] + w4*d[i] + w5*e[i] + w6*f[i] - y[i])**2\n",
    "    return k/2*(int(0.8*length))\n",
    "\n",
    "def grad_fun1(w1, w2, w3, w4, w5, w6):\n",
    "    k = 0.0\n",
    "    for i in range (1, int(0.8*length)):\n",
    "        k += (w1*a[i] + w2*b[i] + w3*c[i] + w4*d[i] + w5*e[i] + w6*f[i] - y[i])/a[i]\n",
    "    return k/(int(0.8*length))\n",
    "def grad_fun2(w1, w2, w3, w4, w5, w6):\n",
    "    k = 0.0\n",
    "    for i in range (1, int(0.8*length)):\n",
    "        k += (w1*a[i] + w2*b[i] + w3*c[i] + w4*d[i] + w5*e[i] + w6*f[i] - y[i])/b[i]\n",
    "    return k/(int(0.8*length))\n",
    "def grad_fun3(w1, w2, w3, w4, w5, w6):\n",
    "    k = 0.0\n",
    "    for i in range (1, int(0.8*length)):\n",
    "        k += (w1*a[i] + w2*b[i] + w3*c[i] + w4*d[i] + w5*e[i] + w6*f[i] - y[i])/c[i]\n",
    "    return k/(int(0.8*length))\n",
    "def grad_fun4(w1, w2, w3, w4, w5, w6):\n",
    "    k = 0.0\n",
    "    for i in range (1, int(0.8*length)):\n",
    "        k += (w1*a[i] + w2*b[i] + w3*c[i] + w4*d[i] + w5*e[i] + w6*f[i] - y[i])/d[i]\n",
    "    return k/(int(0.8*length))\n",
    "def grad_fun5(w1, w2, w3, w4, w5, w6):\n",
    "    k = 0.0\n",
    "    for i in range (1, int(0.8*length)):\n",
    "        k += (w1*a[i] + w2*b[i] + w3*c[i] + w4*d[i] + w5*e[i] + w6*f[i] - y[i])/e[i]\n",
    "    return k/(int(0.8*length))\n",
    "def grad_fun6(w1, w2, w3, w4, w5, w6):\n",
    "    k = 0.0\n",
    "    for i in range (1, int(0.8*length)):\n",
    "        k += (w1*a[i] + w2*b[i] + w3*c[i] + w4*d[i] + w5*e[i] + w6*f[i] - y[i])/f[i]\n",
    "    return k/(int(0.8*length))"
   ]
  },
  {
   "cell_type": "markdown",
   "metadata": {},
   "source": [
    "#### OBTAINING THE VALUES OF THE WEIGHTS VIA GRADIENT DESCENT"
   ]
  },
  {
   "cell_type": "code",
   "execution_count": 26,
   "metadata": {},
   "outputs": [],
   "source": [
    "x = 0.00005\n",
    "w1 = 1\n",
    "w2 = 1\n",
    "w3 = 1\n",
    "w4 = 1\n",
    "w5 = 1\n",
    "w6 = 1\n",
    "\n",
    "for i in range (1, 5000):\n",
    "    w1 = w1 - x*grad_fun1(w1, w2, w3, w4, w5, w6)\n",
    "    w2 = w2 - x*grad_fun2(w1, w2, w3, w4, w5, w6)\n",
    "    w3 = w3 - x*grad_fun3(w1, w2, w3, w4, w5, w6)\n",
    "    w4 = w4 - x*grad_fun4(w1, w2, w3, w4, w5, w6)\n",
    "    w5 = w5 - x*grad_fun5(w1, w2, w3, w4, w5, w6)\n",
    "    w6 = w6 - x*grad_fun6(w1, w2, w3, w4, w5, w6)\n"
   ]
  },
  {
   "cell_type": "markdown",
   "metadata": {},
   "source": [
    "#### CHECKING THE ACCURACY OF THE TRAINED MODEL WITH THE TEST DATA SET"
   ]
  },
  {
   "cell_type": "code",
   "execution_count": 27,
   "metadata": {},
   "outputs": [
    {
     "name": "stdout",
     "output_type": "stream",
     "text": [
      " REAL PRICE :   9298.0   EXPECTED PRICE :  9643.795415310919\n",
      "ACCURACY :  96.28096993642806 percentERROR :  3.7190300635719353\n",
      " REAL PRICE :   9538.0   EXPECTED PRICE :  9643.795415310919\n",
      "ACCURACY :  98.89080084597485 percentERROR :  1.1091991540251473\n",
      " REAL PRICE :   8449.0   EXPECTED PRICE :  10615.4801769617\n",
      "ACCURACY :  74.35814679889098 percentERROR :  25.641853201109015\n",
      " REAL PRICE :   9639.0   EXPECTED PRICE :  10615.4801769617\n",
      "ACCURACY :  89.86948670026247 percentERROR :  10.130513299737531\n",
      " REAL PRICE :   9989.0   EXPECTED PRICE :  10615.4801769617\n",
      "ACCURACY :  93.72829935967864 percentERROR :  6.2717006403213595\n",
      " REAL PRICE :   11199.0   EXPECTED PRICE :  10615.4801769617\n",
      "ACCURACY :  94.78953636004734 percentERROR :  5.2104636399526685\n",
      " REAL PRICE :   11549.0   EXPECTED PRICE :  10615.4801769617\n",
      "ACCURACY :  91.91687745226167 percentERROR :  8.083122547738327\n",
      " REAL PRICE :   17669.0   EXPECTED PRICE :  10648.323682118726\n",
      "ACCURACY :  60.26557067247001 percentERROR :  39.73442932752999\n",
      " REAL PRICE :   8948.0   EXPECTED PRICE :  10102.904586101242\n",
      "ACCURACY :  87.09315393270852 percentERROR :  12.906846067291482\n",
      " REAL PRICE :   10698.0   EXPECTED PRICE :  9576.30091681326\n",
      "ACCURACY :  89.5148711610886 percentERROR :  10.485128838911391\n",
      " REAL PRICE :   9988.0   EXPECTED PRICE :  10070.061080944217\n",
      "ACCURACY :  99.17840327448721 percentERROR :  0.8215967255127842\n",
      " REAL PRICE :   10898.0   EXPECTED PRICE :  10102.904586101242\n",
      "ACCURACY :  92.70420798404517 percentERROR :  7.295792015954837\n",
      " REAL PRICE :   11248.0   EXPECTED PRICE :  10070.061080944217\n",
      "ACCURACY :  89.52757006529353 percentERROR :  10.472429934706465\n",
      " REAL PRICE :   16558.0   EXPECTED PRICE :  11633.359637849746\n",
      "ACCURACY :  70.25824156208326 percentERROR :  29.741758437916744\n",
      " REAL PRICE :   15998.0   EXPECTED PRICE :  11633.359637849746\n",
      "ACCURACY :  72.71758743499029 percentERROR :  27.28241256500971\n",
      " REAL PRICE :   15690.0   EXPECTED PRICE :  11642.255174971357\n",
      "ACCURACY :  74.20175382390923 percentERROR :  25.798246176090778\n",
      " REAL PRICE :   15750.0   EXPECTED PRICE :  11519.369171244423\n",
      "ACCURACY :  73.13885188091697 percentERROR :  26.86114811908303\n",
      " REAL PRICE :   7775.0   EXPECTED PRICE :  9094.910873399613\n",
      "ACCURACY :  83.02365436141977 percentERROR :  16.976345638580227\n",
      " REAL PRICE :   7975.0   EXPECTED PRICE :  9725.750592890827\n",
      "ACCURACY :  78.04701450920594 percentERROR :  21.952985490794067\n",
      " REAL PRICE :   7995.0   EXPECTED PRICE :  9094.910873399613\n",
      "ACCURACY :  86.24251565478909 percentERROR :  13.757484345210916\n",
      " REAL PRICE :   8195.0   EXPECTED PRICE :  9725.750592890827\n",
      "ACCURACY :  81.32092015996551 percentERROR :  18.679079840034493\n",
      " REAL PRICE :   8495.0   EXPECTED PRICE :  9725.750592890827\n",
      "ACCURACY :  85.51205894183842 percentERROR :  14.487941058161585\n",
      " REAL PRICE :   9495.0   EXPECTED PRICE :  9329.275244317865\n",
      "ACCURACY :  98.25461026137825 percentERROR :  1.7453897386217467\n",
      " REAL PRICE :   9995.0   EXPECTED PRICE :  9945.467190626689\n",
      "ACCURACY :  99.50442411832604 percentERROR :  0.49557588167395167\n",
      " REAL PRICE :   11595.0   EXPECTED PRICE :  9632.587395608749\n",
      "ACCURACY :  83.07535485647908 percentERROR :  16.924645143520923\n",
      " REAL PRICE :   9980.0   EXPECTED PRICE :  9555.935521837242\n",
      "ACCURACY :  95.7508569322369 percentERROR :  4.2491430677631055\n",
      " REAL PRICE :   13295.0   EXPECTED PRICE :  10529.224507842957\n",
      "ACCURACY :  79.19687482394102 percentERROR :  20.80312517605899\n",
      " REAL PRICE :   13845.0   EXPECTED PRICE :  9434.762619647512\n",
      "ACCURACY :  68.14563105559778 percentERROR :  31.85436894440222\n",
      " REAL PRICE :   12290.0   EXPECTED PRICE :  9905.336359053868\n",
      "ACCURACY :  80.59671569612587 percentERROR :  19.403284303874138\n",
      " REAL PRICE :   12940.0   EXPECTED PRICE :  10650.024551256442\n",
      "ACCURACY :  82.30312636210542 percentERROR :  17.696873637894576\n",
      " REAL PRICE :   13415.0   EXPECTED PRICE :  10692.721107960575\n",
      "ACCURACY :  79.70720169929612 percentERROR :  20.292798300703875\n",
      " REAL PRICE :   15985.0   EXPECTED PRICE :  10650.024551256442\n",
      "ACCURACY :  66.62511449018731 percentERROR :  33.37488550981269\n",
      " REAL PRICE :   16515.0   EXPECTED PRICE :  10692.721107960575\n",
      "ACCURACY :  64.74551079600712 percentERROR :  35.25448920399288\n",
      " REAL PRICE :   18420.0   EXPECTED PRICE :  11217.943059911575\n",
      "ACCURACY :  60.90088523296186 percentERROR :  39.09911476703814\n",
      " REAL PRICE :   18950.0   EXPECTED PRICE :  11260.639616615706\n",
      "ACCURACY :  59.42290035153407 percentERROR :  40.57709964846593\n",
      " REAL PRICE :   16845.0   EXPECTED PRICE :  10671.729434726263\n",
      "ACCURACY :  63.3525048069235 percentERROR :  36.6474951930765\n",
      " REAL PRICE :   19045.0   EXPECTED PRICE :  11342.897863640961\n",
      "ACCURACY :  59.55840306453642 percentERROR :  40.44159693546358\n",
      " REAL PRICE :   21485.0   EXPECTED PRICE :  11209.324442836743\n",
      "ACCURACY :  52.17279237997088 percentERROR :  47.82720762002912\n",
      " REAL PRICE :   22470.0   EXPECTED PRICE :  10736.376353850332\n",
      "ACCURACY :  47.78093615420709 percentERROR :  52.21906384579291\n",
      " REAL PRICE :   22625.0   EXPECTED PRICE :  10671.729434726263\n",
      "ACCURACY :  47.167864904867464 percentERROR :  52.832135095132536\n"
     ]
    }
   ],
   "source": [
    "for i in range (165, 205):\n",
    "    yexp = w1*a[i] + w2*b[i] + w3*c[i] + w4*d[i] + w5*e[i] + w6*f[i]\n",
    "    print(\" REAL PRICE :  \", y[i], \"  EXPECTED PRICE : \", yexp)\n",
    "    print(\"ACCURACY : \", 100-(abs(yexp-y[i])/y[i])*100,\"percent\" \"ERROR : \",(abs(yexp-y[i])/y[i])*100)"
   ]
  },
  {
   "cell_type": "markdown",
   "metadata": {},
   "source": [
    "#### PRICE OF ISHAN BAWNE'S CAR"
   ]
  },
  {
   "cell_type": "code",
   "execution_count": 28,
   "metadata": {},
   "outputs": [
    {
     "name": "stdout",
     "output_type": "stream",
     "text": [
      "ISHAN BAWNE THE PRICE OF THE CAR WOULD BE :  11618.661279573129\n"
     ]
    }
   ],
   "source": [
    "A= 190.9\n",
    "B= 70.3\n",
    "C= 54.9\n",
    "D= 183\n",
    "E= 3.64\n",
    "F= 123\n",
    "\n",
    "price_final = w1*A + w2*B + w3*C + w4*D + w5*E + w6*F\n",
    "print(\"ISHAN BAWNE THE PRICE OF THE CAR WOULD BE : \",price_final)"
   ]
  }
 ],
 "metadata": {
  "kernelspec": {
   "display_name": "Python 3.10.5 64-bit",
   "language": "python",
   "name": "python3"
  },
  "language_info": {
   "codemirror_mode": {
    "name": "ipython",
    "version": 3
   },
   "file_extension": ".py",
   "mimetype": "text/x-python",
   "name": "python",
   "nbconvert_exporter": "python",
   "pygments_lexer": "ipython3",
   "version": "3.10.5"
  },
  "orig_nbformat": 4,
  "vscode": {
   "interpreter": {
    "hash": "1c9155b390a856af6d5480c6595dc541f45b3de0f4ac811d8cd4cdadb94bea32"
   }
  }
 },
 "nbformat": 4,
 "nbformat_minor": 2
}
