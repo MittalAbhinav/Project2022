{
  "nbformat": 4,
  "nbformat_minor": 0,
  "metadata": {
    "colab": {
      "name": "Untitled0.ipynb",
      "provenance": [],
      "collapsed_sections": []
    },
    "kernelspec": {
      "name": "python3",
      "display_name": "Python 3"
    },
    "language_info": {
      "name": "python"
    }
  },
  "cells": [
    {
      "cell_type": "code",
      "execution_count": 10,
      "metadata": {
        "id": "5s4fQsMHVh4Z",
        "colab": {
          "base_uri": "https://localhost:8080/"
        },
        "outputId": "6c83cc9d-b9a2-4fd9-c809-59d27f580d6f"
      },
      "outputs": [
        {
          "name": "stdout",
          "output_type": "stream",
          "text": [
            "Enter number of rows of 1st matrix: 3\n",
            "Enter number of columns of 1st matrix: 3\n",
            "Enter number of rows of 2nd matrix: 3\n",
            "Enter number of columns of 1st matrix: 3\n"
          ]
        }
      ],
      "source": [
        "import random\n",
        "rowa=int(input(\"Enter number of rows of 1st matrix: \"))\n",
        "cola=int(input(\"Enter number of columns of 1st matrix: \"))\n",
        "arr1= [[0 for i in range(cola)] for j in range(rowa)]\n",
        "for i in range(0,cola):\n",
        "  for j in range(0,rowa):\n",
        "    arr1[i][j]=random.random()\n",
        "rowb=int(input(\"Enter number of rows of 2nd matrix: \"))\n",
        "colb=int(input(\"Enter number of columns of 1st matrix: \"))\n",
        "arr2= [[0 for i in range(cola)] for j in range(rowa)]\n",
        "for i in range(0,cola):\n",
        "  for j in range(0,rowa):\n",
        "    arr2[i][j]=random.random()"
      ]
    },
    {
      "cell_type": "code",
      "source": [
        "def add(arr1,cola,rowa,arr2,colb,rowb):\n",
        "  if((cola!=colb)and(rowa!=rowb)):\n",
        "    print(\"Error\")\n",
        "    return\n",
        "  else:\n",
        "    sum= [[0 for i in range(cola)] for j in range(rowa)]\n",
        "    for i in range(0,cola):\n",
        "      for j in range(0,rowb):\n",
        "        print(arr1[i][j]+arr2[i][j])\n",
        "      print()"
      ],
      "metadata": {
        "id": "sSbaoYC7Xuvz"
      },
      "execution_count": 11,
      "outputs": []
    },
    {
      "cell_type": "code",
      "source": [
        "def matmul(arr1,cola,rowa,arr2,colb,rowb):\n",
        "  if(cola!=rowb):\n",
        "    print(\"Error\")\n",
        "    return\n",
        "  else:\n",
        "    mult=[[0]*colb]*rowa\n",
        "    for i in range(rowa):\n",
        "      for j in range(colb):\n",
        "        for x in range(cola):\n",
        "          mult[i][j]+=mult[i][j]+arr1[i][x]*arr2[x][i]\n",
        "    for i in range(rowa):\n",
        "      for j in range(colb):\n",
        "        print(mult[i][j])\n",
        "      print()\n",
        "    return"
      ],
      "metadata": {
        "id": "r2dKAM_W5BIh"
      },
      "execution_count": 12,
      "outputs": []
    },
    {
      "cell_type": "code",
      "source": [
        "cofactor(mat,temp,p,q,n):\n",
        "  i,j = 0,0\n",
        "  for row in range(n):\n",
        "    for col in range(n):\n",
        "      if ((row!=p)and(col != q)):\n",
        "        temp[i][j+1]=mat[row][col]\n",
        "        if(j==n-1):\n",
        "          j = 0\n",
        "          i++"
      ],
      "metadata": {
        "id": "ooWHlaRiLDqk"
      },
      "execution_count": null,
      "outputs": []
    },
    {
      "cell_type": "code",
      "source": [
        "def det(mat, int n):\n",
        "  D = 0\n",
        "  if (n == 1):\n",
        "    return mat[0][0]\n",
        "    temp=[[0]*N]*N]\n",
        "    sign = 1\n",
        "    for int i in range(N):\n",
        "      cofactor(mat, temp,0,i,n)\n",
        "      D += sign * mat[0][i]*det(temp, n - 1)\n",
        "      sign = -sign\n",
        " \n",
        "  return D;"
      ],
      "metadata": {
        "id": "WORQtORLESzC"
      },
      "execution_count": null,
      "outputs": []
    }
  ]
}