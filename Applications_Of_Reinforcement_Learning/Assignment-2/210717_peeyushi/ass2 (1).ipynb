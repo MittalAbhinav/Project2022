{
  "nbformat": 4,
  "nbformat_minor": 0,
  "metadata": {
    "colab": {
      "name": "ass2.ipynb",
      "provenance": [],
      "collapsed_sections": []
    },
    "kernelspec": {
      "name": "python3",
      "display_name": "Python 3"
    },
    "language_info": {
      "name": "python"
    }
  },
  "cells": [
    {
      "cell_type": "code",
      "execution_count": 1,
      "metadata": {
        "colab": {
          "resources": {
            "http://localhost:8080/nbextensions/google.colab/files.js": {
              "data": "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",
              "ok": true,
              "headers": [
                [
                  "content-type",
                  "application/javascript"
                ]
              ],
              "status": 200,
              "status_text": ""
            }
          },
          "base_uri": "https://localhost:8080/",
          "height": 74
        },
        "id": "C2C_c56IpBuZ",
        "outputId": "72f0f292-fc55-4b16-f5f1-d924697750f7"
      },
      "outputs": [
        {
          "output_type": "display_data",
          "data": {
            "text/plain": [
              "<IPython.core.display.HTML object>"
            ],
            "text/html": [
              "\n",
              "     <input type=\"file\" id=\"files-aedaebce-c89b-4ca4-98e9-48e70009af3d\" name=\"files[]\" multiple disabled\n",
              "        style=\"border:none\" />\n",
              "     <output id=\"result-aedaebce-c89b-4ca4-98e9-48e70009af3d\">\n",
              "      Upload widget is only available when the cell has been executed in the\n",
              "      current browser session. Please rerun this cell to enable.\n",
              "      </output>\n",
              "      <script src=\"/nbextensions/google.colab/files.js\"></script> "
            ]
          },
          "metadata": {}
        },
        {
          "output_type": "stream",
          "name": "stdout",
          "text": [
            "Saving CarPrice_Assignment (2).csv to CarPrice_Assignment (2).csv\n"
          ]
        }
      ],
      "source": [
        "from google.colab import files\n",
        " \n",
        " \n",
        "uploaded = files.upload()"
      ]
    },
    {
      "cell_type": "code",
      "source": [
        "import numpy as np\n",
        "import matplotlib.pyplot as plt\n",
        "import pandas as pd\n",
        "import sympy as sy\n",
        "from sympy import symbols, cos, diff\n",
        "\n",
        "data = pd.read_csv('CarPrice_Assignment (2).csv')\n",
        "\n",
        "s = len(data)\n",
        "train = data.loc[1:0.8*s,:]\n",
        "test=data.loc[0.8*s:s,:]\n",
        "a = data['carlength']\n",
        "b = data['carwidth']\n",
        "c = data['carheight']\n",
        "d = data['enginesize']\n",
        "e = data['stroke']\n",
        "f = data['horsepower']\n",
        "y = data['price']\n",
        "\n",
        "\n"
      ],
      "metadata": {
        "id": "o0e1z1nNpPLM"
      },
      "execution_count": 71,
      "outputs": []
    },
    {
      "cell_type": "code",
      "source": [
        "def cost_fun(w1, w2, w3, w4, w5, w6):\n",
        "    k = 0.0\n",
        "    for i in range (1, int(0.8*s)):\n",
        "        k += (w1*a[i] + w2*b[i] + w3*c[i] + w4*d[i] + w5*e[i] + w6*f[i] - y[i])**2\n",
        "    return k/2*(int(0.8*s))  "
      ],
      "metadata": {
        "id": "IbNWek1-tUAD"
      },
      "execution_count": 52,
      "outputs": []
    },
    {
      "cell_type": "code",
      "source": [
        "def grad_fun1(w1, w2, w3, w4, w5, w6):\n",
        "    k = 0.0\n",
        "    for i in range (1, int(0.8*s)):\n",
        "        k += (w1*a[i] + w2*b[i] + w3*c[i] + w4*d[i] + w5*e[i] + w6*f[i] - y[i])/a[i]\n",
        "    return k/(int(0.8*s))\n",
        "def grad_fun2(w1, w2, w3, w4, w5, w6):\n",
        "    k = 0.0\n",
        "    for i in range (1, int(0.8*s)):\n",
        "        k += (w1*a[i] + w2*b[i] + w3*c[i] + w4*d[i] + w5*e[i] + w6*f[i] - y[i])/b[i]\n",
        "    return k/(int(0.8*s))\n",
        "def grad_fun3(w1, w2, w3, w4, w5, w6):\n",
        "    k = 0.0\n",
        "    for i in range (1, int(0.8*s)):\n",
        "        k += (w1*a[i] + w2*b[i] + w3*c[i] + w4*d[i] + w5*e[i] + w6*f[i] - y[i])/c[i]\n",
        "    return k/(int(0.8*s))\n",
        "def grad_fun4(w1, w2, w3, w4, w5, w6):\n",
        "    k = 0.0\n",
        "    for i in range (1, int(0.8*s)):\n",
        "        k += (w1*a[i] + w2*b[i] + w3*c[i] + w4*d[i] + w5*e[i] + w6*f[i] - y[i])/d[i]\n",
        "    return k/(int(0.8*s))\n",
        "def grad_fun5(w1, w2, w3, w4, w5, w6):\n",
        "    k = 0.0\n",
        "    for i in range (1, int(0.8*s)):\n",
        "        k += (w1*a[i] + w2*b[i] + w3*c[i] + w4*d[i] + w5*e[i] + w6*f[i] - y[i])/e[i]\n",
        "    return k/(int(0.8*s))\n",
        "def grad_fun6(w1, w2, w3, w4, w5, w6):\n",
        "    k = 0.0\n",
        "    for i in range (1, int(0.8*s)):\n",
        "        k += (w1*a[i] + w2*b[i] + w3*c[i] + w4*d[i] + w5*e[i] + w6*f[i] - y[i])/f[i]\n",
        "    return k/(int(0.8*s))\n"
      ],
      "metadata": {
        "id": "KddfAAGaqJ0_"
      },
      "execution_count": 84,
      "outputs": []
    },
    {
      "cell_type": "code",
      "source": [
        "x = 0.0001\n",
        "w1 = 1\n",
        "w2 = 1\n",
        "w3 = 1\n",
        "w4 = 1\n",
        "w5 = 1\n",
        "w6 = 1\n",
        "\n",
        "for i in range (1, 3000):\n",
        "    w1 = w1 - x*grad_fun1(w1, w2, w3, w4, w5, w6)\n",
        "    w2 = w2 - x*grad_fun2(w1, w2, w3, w4, w5, w6)\n",
        "    w3 = w3 - x*grad_fun3(w1, w2, w3, w4, w5, w6)\n",
        "    w4 = w4 - x*grad_fun4(w1, w2, w3, w4, w5, w6)\n",
        "    w5 = w5 - x*grad_fun5(w1, w2, w3, w4, w5, w6)\n",
        "    w6 = w6 - x*grad_fun6(w1, w2, w3, w4, w5, w6)\n",
        "   "
      ],
      "metadata": {
        "id": "ROJY1edgrDL7"
      },
      "execution_count": 85,
      "outputs": []
    },
    {
      "cell_type": "code",
      "source": [
        "for i in range (165, 205):\n",
        "    h = w1*a[i] + w2*b[i] + w3*c[i] + w4*d[i] + w5*e[i] + w6*f[i] \n",
        "    print(\"Actual price is \", y[i], \"  Predicted price is \", h)\n",
        "    print(\"Accuracy is \", 100-(abs(h-y[i])/y[i])*100,\"percent\")\n",
        "    "
      ],
      "metadata": {
        "colab": {
          "base_uri": "https://localhost:8080/"
        },
        "id": "coWgWGUgrpZU",
        "outputId": "6e795003-e8e4-449c-c49f-a4494e36fb7d"
      },
      "execution_count": 86,
      "outputs": [
        {
          "output_type": "stream",
          "name": "stdout",
          "text": [
            "Actual price is  9298.0   Predicted price is  10309.289916321353\n",
            "Accuracy is  89.12357586232143 percent\n",
            "Actual price is  9538.0   Predicted price is  10309.289916321353\n",
            "Accuracy is  91.91350475653854 percent\n",
            "Actual price is  8449.0   Predicted price is  11338.191298664437\n",
            "Accuracy is  65.80434017440601 percent\n",
            "Actual price is  9639.0   Predicted price is  11338.191298664437\n",
            "Accuracy is  82.37170558497317 percent\n",
            "Actual price is  9989.0   Predicted price is  11338.191298664437\n",
            "Accuracy is  86.4932295658781 percent\n",
            "Actual price is  11199.0   Predicted price is  11338.191298664437\n",
            "Accuracy is  98.75710957527961 percent\n",
            "Actual price is  11549.0   Predicted price is  11338.191298664437\n",
            "Accuracy is  98.1746584004194 percent\n",
            "Actual price is  17669.0   Predicted price is  11373.7193471415\n",
            "Accuracy is  64.37104163869772 percent\n",
            "Actual price is  8948.0   Predicted price is  10807.18342663393\n",
            "Accuracy is  79.22235777118988 percent\n",
            "Actual price is  10698.0   Predicted price is  10252.992331689218\n",
            "Accuracy is  95.84027230967675 percent\n",
            "Actual price is  9988.0   Predicted price is  10771.655378156867\n",
            "Accuracy is  92.15403105569817 percent\n",
            "Actual price is  10898.0   Predicted price is  10807.18342663393\n",
            "Accuracy is  99.16666752279254 percent\n",
            "Actual price is  11248.0   Predicted price is  10771.655378156867\n",
            "Accuracy is  95.76507270765352 percent\n",
            "Actual price is  16558.0   Predicted price is  12402.363744381397\n",
            "Accuracy is  74.90254707320568 percent\n",
            "Actual price is  15998.0   Predicted price is  12402.363744381397\n",
            "Accuracy is  77.52446396037878 percent\n",
            "Actual price is  15690.0   Predicted price is  12414.461364123406\n",
            "Accuracy is  79.12339938893184 percent\n",
            "Actual price is  15750.0   Predicted price is  12285.598851925106\n",
            "Accuracy is  78.00380223444512 percent\n",
            "Actual price is  7775.0   Predicted price is  9750.049419366744\n",
            "Accuracy is  74.59743512068496 percent\n",
            "Actual price is  7975.0   Predicted price is  10408.79393624447\n",
            "Accuracy is  69.4822076959941 percent\n",
            "Actual price is  7995.0   Predicted price is  9750.049419366744\n",
            "Accuracy is  78.04816235939032 percent\n",
            "Actual price is  8195.0   Predicted price is  10408.79393624447\n",
            "Accuracy is  72.98604104643721 percent\n",
            "Actual price is  8495.0   Predicted price is  10408.79393624447\n",
            "Accuracy is  77.47152517663955 percent\n",
            "Actual price is  9495.0   Predicted price is  9994.466147725418\n",
            "Accuracy is  94.73969302026943 percent\n",
            "Actual price is  9995.0   Predicted price is  10637.934619080728\n",
            "Accuracy is  93.5674375279567 percent\n",
            "Actual price is  11595.0   Predicted price is  10306.601719280561\n",
            "Accuracy is  88.88832875619285 percent\n",
            "Actual price is  9980.0   Predicted price is  10223.012570044819\n",
            "Accuracy is  97.56500430816814 percent\n",
            "Actual price is  13295.0   Predicted price is  11251.713745787589\n",
            "Accuracy is  84.63116770054599 percent\n",
            "Actual price is  13845.0   Predicted price is  10107.556036272697\n",
            "Accuracy is  73.00509957582302 percent\n",
            "Actual price is  12290.0   Predicted price is  10600.020425989507\n",
            "Accuracy is  86.24914911301471 percent\n",
            "Actual price is  12940.0   Predicted price is  11376.81997687669\n",
            "Accuracy is  87.91978343799606 percent\n",
            "Actual price is  13415.0   Predicted price is  11423.006439896872\n",
            "Accuracy is  85.1509984338194 percent\n",
            "Actual price is  15985.0   Predicted price is  11376.81997687669\n",
            "Accuracy is  71.17184846341377 percent\n",
            "Actual price is  16515.0   Predicted price is  11423.006439896872\n",
            "Accuracy is  69.16746254857324 percent\n",
            "Actual price is  18420.0   Predicted price is  11968.321398534586\n",
            "Accuracy is  64.97460042635498 percent\n",
            "Actual price is  18950.0   Predicted price is  12014.507861554768\n",
            "Accuracy is  63.401096894748115 percent\n",
            "Actual price is  16845.0   Predicted price is  11400.169013884226\n",
            "Accuracy is  67.67687155763863 percent\n",
            "Actual price is  19045.0   Predicted price is  12100.030715507095\n",
            "Accuracy is  63.53389716727275 percent\n",
            "Actual price is  21485.0   Predicted price is  11956.959751226968\n",
            "Accuracy is  55.65259367571314 percent\n",
            "Actual price is  22470.0   Predicted price is  11473.336201137925\n",
            "Accuracy is  51.0606862533953 percent\n",
            "Actual price is  22625.0   Predicted price is  11400.169013884226\n",
            "Accuracy is  50.38748735418442 percent\n"
          ]
        }
      ]
    },
    {
      "cell_type": "code",
      "source": [
        "carlength = 190.9\n",
        "carwidth = 70.3\n",
        "carheight = 54.9\n",
        "enginesize = 183\n",
        "stroke = 3.64\n",
        "horsepower = 123\n",
        "price = w1*carlength + w2*carwidth + w3*carheight + w4*enginesize + w5*stroke + w6*horsepower \n",
        "\n",
        "print(\"The price of the car is \", price)"
      ],
      "metadata": {
        "colab": {
          "base_uri": "https://localhost:8080/"
        },
        "id": "bRdQhblV3-Tn",
        "outputId": "11a47161-a322-45de-ca79-75b805fed850"
      },
      "execution_count": 87,
      "outputs": [
        {
          "output_type": "stream",
          "name": "stdout",
          "text": [
            "The price of the car is  12402.572295426833\n"
          ]
        }
      ]
    }
  ]
}