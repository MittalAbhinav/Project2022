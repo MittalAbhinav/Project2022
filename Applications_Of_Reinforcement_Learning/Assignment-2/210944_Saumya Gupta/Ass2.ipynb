{
 "cells": [
  {
   "cell_type": "code",
   "execution_count": null,
   "metadata": {},
   "outputs": [],
   "source": [
    "import numpy as np\n",
    "import pandas as pd\n",
    "import matplotlib.pyplot as plt"
   ]
  },
  {
   "cell_type": "code",
   "execution_count": null,
   "metadata": {},
   "outputs": [],
   "source": [
    "def featureScaling(x):\n",
    "    mu = np.average(x,axis =0)\n",
    "    s = np.max(x,axis=0) - np.min(x,axis=0)\n",
    "    x = (x - mu)/s\n",
    "    return x    "
   ]
  },
  {
   "cell_type": "code",
   "execution_count": null,
   "metadata": {},
   "outputs": [],
   "source": [
    "def hypothesis(thetha,x):\n",
    "    return np.dot(x,thetha.transpose())"
   ]
  },
  {
   "cell_type": "code",
   "execution_count": null,
   "metadata": {},
   "outputs": [],
   "source": [
    "def computeCost(x,y,m,n,thetha):\n",
    "    y1 = hypothesis(thetha,x)\n",
    "    return np.sum(np.square(y1-y))/(2*m)\n",
    "    "
   ]
  },
  {
   "cell_type": "code",
   "execution_count": null,
   "metadata": {},
   "outputs": [],
   "source": [
    "def gradientDescent(x,y,m,n,thetha,alpha,i):\n",
    "    J=[]\n",
    "    k=0\n",
    "    while(k<i):\n",
    "        y1 = hypothesis(thetha,x)\n",
    "        thetha = thetha - alpha*np.dot((y1-y).transpose(),x)\n",
    "        j=computeCost(x,y,m,n,thetha)\n",
    "        J.append(j)\n",
    "        k+=1\n",
    "    return J, j, thetha\n"
   ]
  },
  {
   "cell_type": "code",
   "execution_count": null,
   "metadata": {},
   "outputs": [],
   "source": [
    "#main fn()\n",
    "df = pd.read_csv(\"CarPrice_Assignment.csv\")\n",
    "data1 = df[['carlength', 'carwidth', 'carheight', 'enginesize', 'stroke', 'horsepower', 'price']].copy()\n",
    "data = data1.sample(frac=0.80) #training data\n",
    "testingData = data1.drop(data.index) #testing data\n",
    "data = data.sort_index()\n",
    "data = data.reset_index(drop=True)\n",
    "x = data.drop(columns='price')\n",
    "y = data[['price']].copy()\n",
    "x = x.to_numpy() \n",
    "y = y.to_numpy()\n",
    "x = featureScaling(x)\n",
    "m = np.size(x,0)\n",
    "n = np.size(x,1)\n"
   ]
  },
  {
   "cell_type": "code",
   "execution_count": null,
   "metadata": {},
   "outputs": [],
   "source": [
    "thetha = np.array([0]*n)\n",
    "J, j, thetha = gradientDescent(x, y,m,m,thetha, 0.00002, 20000)"
   ]
  },
  {
   "cell_type": "code",
   "execution_count": null,
   "metadata": {},
   "outputs": [],
   "source": [
    "#Plot of cost fn vs iterations\n",
    "plt.scatter(x=list(range(0, 20000)), y=J)\n",
    "plt.show()"
   ]
  },
  {
   "cell_type": "code",
   "execution_count": null,
   "metadata": {},
   "outputs": [],
   "source": [
    "#Modifying testing data\n",
    "testingData = testingData.sort_index()\n",
    "testingData = testingData.reset_index(drop=True)\n",
    "xtest = testingData.drop(columns='price')\n",
    "ytest = testingData[['price']].copy()"
   ]
  },
  {
   "cell_type": "code",
   "execution_count": null,
   "metadata": {},
   "outputs": [],
   "source": [
    "#Taking out accuracy\n",
    "ypred = hypothesis(thetha,xtest)\n",
    "accuracy = (np.sum(ypred==ytest))*100/np.size(xtest,0)\n",
    "print(accuracy)"
   ]
  },
  {
   "cell_type": "code",
   "execution_count": null,
   "metadata": {},
   "outputs": [],
   "source": [
    "#2.b.\n",
    "x2 = np.array([[190.9],[70.3],[54.9],[183],[3.64],[123]])\n",
    "print(hypothesis(thetha,x2))"
   ]
  }
 ],
 "metadata": {
  "kernelspec": {
   "display_name": "Python 3.10.5 64-bit",
   "language": "python",
   "name": "python3"
  },
  "language_info": {
   "codemirror_mode": {
    "name": "ipython",
    "version": 3
   },
   "file_extension": ".py",
   "mimetype": "text/x-python",
   "name": "python",
   "nbconvert_exporter": "python",
   "pygments_lexer": "ipython3",
   "version": "3.10.5"
  },
  "orig_nbformat": 4,
  "vscode": {
   "interpreter": {
    "hash": "027efd7095115064582efab50921964d678032cf36f1ec215c675cf4ffc5e6b9"
   }
  }
 },
 "nbformat": 4,
 "nbformat_minor": 2
}
