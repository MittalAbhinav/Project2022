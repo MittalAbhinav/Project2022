import matplotlib.pyplot as plt
  
x1 = [1,2,3]
y1 = [20,40,10]
plt.plot(x1, y1, label = "PHY Marks")
x2 = [1,2,3]
y2 = [40,18,31]
plt.plot(x2, y2, label = "MTH Marks")
plt.xlabel('Roll No')
plt.ylabel('Marks')
plt.title('')
plt.legend()
plt.show()
