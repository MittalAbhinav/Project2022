{
  "nbformat": 4,
  "nbformat_minor": 0,
  "metadata": {
    "colab": {
      "name": "Untitled1.ipynb",
      "provenance": [],
      "collapsed_sections": []
    },
    "kernelspec": {
      "name": "python3",
      "display_name": "Python 3"
    },
    "language_info": {
      "name": "python"
    }
  },
  "cells": [
    {
      "cell_type": "code",
      "execution_count": 1,
      "metadata": {
        "colab": {
          "base_uri": "https://localhost:8080/"
        },
        "id": "Twyg29eED8uQ",
        "outputId": "87ee27ce-8499-4802-a724-208ca8c01cc6"
      },
      "outputs": [
        {
          "output_type": "stream",
          "name": "stdout",
          "text": [
            "[14, 39, 49]\n",
            "[28, 78, 98]\n",
            "[50, 139, 175]\n"
          ]
        }
      ],
      "source": [
        "\n",
        "A=[[ 1, 2, 3],\n",
        "   [2, 4, 6],\n",
        "   [5, 8, 9]]\n",
        "B=[[3, 4, 6],\n",
        "   [1, 7, 8],\n",
        "   [3, 7, 9]]\n",
        "C=[[0, 0, 0],\n",
        "   [0, 0, 0],\n",
        "   [0, 0, 0]]\n",
        "for i in range (0, len(C)):\n",
        "  for j in range(0, len(C[0])):\n",
        "    for k in range(0, len(B)):\n",
        "      C[i][j] += A[i][k] * B[k][j]\n",
        "for row in C:\n",
        "  print(row)\n",
        "\n"
      ]
    },
    {
      "cell_type": "code",
      "source": [
        "import numpy as np\n",
        "A=[[ 1, 2, 3],\n",
        "   [2, 4, 6],\n",
        "   [5, 8, 9]]\n",
        "B=[[3, 4, 6],\n",
        "   [1, 7, 8],\n",
        "   [3, 7, 9]]\n",
        "\n",
        "C=np.dot(A,B)\n",
        "print(C)\n"
      ],
      "metadata": {
        "colab": {
          "base_uri": "https://localhost:8080/"
        },
        "id": "LSiS7ghHFCJM",
        "outputId": "0ce765d3-9d59-4f27-faaf-ac705a430305"
      },
      "execution_count": 2,
      "outputs": [
        {
          "output_type": "stream",
          "name": "stdout",
          "text": [
            "[[ 14  39  49]\n",
            " [ 28  78  98]\n",
            " [ 50 139 175]]\n"
          ]
        }
      ]
    },
    {
      "cell_type": "code",
      "execution_count": 3,
      "metadata": {
        "colab": {
          "base_uri": "https://localhost:8080/"
        },
        "outputId": "087c87e0-b1b7-460b-a30a-b92907eeccd8",
        "id": "VcI4dPVsOPpr"
      },
      "outputs": [
        {
          "output_type": "stream",
          "name": "stdout",
          "text": [
            "[4, 6, 9]\n",
            "[3, 11, 14]\n",
            "[8, 15, 18]\n"
          ]
        }
      ],
      "source": [
        "\n",
        "A=[[ 1, 2, 3],\n",
        "   [2, 4, 6],\n",
        "   [5, 8, 9]]\n",
        "B=[[3, 4, 6],\n",
        "   [1, 7, 8],\n",
        "   [3, 7, 9]]\n",
        "C=[[0, 0, 0],\n",
        "   [0, 0, 0],\n",
        "   [0, 0, 0]]\n",
        "for i in range (0, len(C)):\n",
        "  for j in range(0, len(C[0])):\n",
        "    C[i][j]=A[i][j]+B[i][j]\n",
        "for row in C:\n",
        " print(row)\n",
        "\n"
      ]
    },
    {
      "cell_type": "code",
      "source": [
        "import numpy as np\n",
        "A=[[ 1, 2, 3],\n",
        "   [2, 4, 6],\n",
        "   [5, 8, 9]]\n",
        "B=[[3, 4, 6],\n",
        "   [1, 7, 8],\n",
        "   [3, 7, 9]]\n",
        "c=np.add(A,B)\n",
        "print(c)"
      ],
      "metadata": {
        "colab": {
          "base_uri": "https://localhost:8080/"
        },
        "id": "_ngUafWx2zlE",
        "outputId": "c5c7bb70-85fb-47ec-b99a-d3980d7f8a83"
      },
      "execution_count": 4,
      "outputs": [
        {
          "output_type": "stream",
          "name": "stdout",
          "text": [
            "[[ 4  6  9]\n",
            " [ 3 11 14]\n",
            " [ 8 15 18]]\n"
          ]
        }
      ]
    },
    {
      "cell_type": "code",
      "source": [
        " def getMatrixMinor(m,i,j):\n",
        "    return [row[:j] + row[j+1:] for row in (m[:i]+m[i+1:])]\n",
        "\n",
        "def getMatrixDeternminant(m):\n",
        "    #base case for 2x2 matrix\n",
        "    if len(m) == 2:\n",
        "        return m[0][0]*m[1][1]-m[0][1]*m[1][0]\n",
        "\n",
        "    determinant = 0\n",
        "    for c in range(len(m)):\n",
        "        determinant += ((-1)**c)*m[0][c]*getMatrixDeternminant(getMatrixMinor(m,0,c))\n",
        "    return determinant\n",
        "\n",
        "def getMatrixInverse(m):\n",
        "    determinant = getMatrixDeternminant(m)\n",
        "    #special case for 2x2 matrix:\n",
        "    if len(m) == 2:\n",
        "        return [[m[1][1]/determinant, -1*m[0][1]/determinant],\n",
        "                [-1*m[1][0]/determinant, m[0][0]/determinant]]\n",
        "\n",
        "    #find matrix of cofactors\n",
        "    cofactors = []\n",
        "    for r in range(len(m)):\n",
        "        cofactorRow = []\n",
        "        for c in range(len(m)):\n",
        "            minor = getMatrixMinor(m,r,c)\n",
        "            cofactorRow.append(((-1)**(r+c)) * getMatrixDeternminant(minor))\n",
        "        cofactors.append(cofactorRow)\n",
        "    cofactors = transposeMatrix(cofactors)\n",
        "    for r in range(len(cofactors)):\n",
        "        for c in range(len(cofactors)):\n",
        "            cofactors[r][c] = cofactors[r][c]/determinant\n",
        "    return cofactors\n",
        "m=[[ 1, 2, 3],\n",
        "   [2, 6, 6],\n",
        "   [5, 8, 9]]\n",
        "B=getMatrixInverse(m)\n",
        "for row in B:\n",
        "  print(row)"
      ],
      "metadata": {
        "colab": {
          "base_uri": "https://localhost:8080/"
        },
        "id": "m_ww1dg8FLgx",
        "outputId": "ee6b4cb2-c4a2-4409-bde6-1550c96093e4"
      },
      "execution_count": 9,
      "outputs": [
        {
          "output_type": "stream",
          "name": "stdout",
          "text": [
            "[-0.5, -0.5, 0.5]\n",
            "[-1.0, 0.5, -0.0]\n",
            "[1.1666666666666667, -0.16666666666666666, -0.16666666666666666]\n"
          ]
        }
      ]
    },
    {
      "cell_type": "code",
      "source": [
        "import numpy as np\n",
        "A=[[ 1, 2, 3],\n",
        "   [2, 6, 6],\n",
        "   [5, 8, 9]]\n",
        "print(np.linalg.inv(A))"
      ],
      "metadata": {
        "colab": {
          "base_uri": "https://localhost:8080/"
        },
        "id": "CG-FpB_75DHo",
        "outputId": "e51cb700-4e42-4561-9ecc-ca3263516c78"
      },
      "execution_count": 7,
      "outputs": [
        {
          "output_type": "stream",
          "name": "stdout",
          "text": [
            "[[-5.00000000e-01 -5.00000000e-01  5.00000000e-01]\n",
            " [-1.00000000e+00  5.00000000e-01 -1.98254112e-17]\n",
            " [ 1.16666667e+00 -1.66666667e-01 -1.66666667e-01]]\n"
          ]
        }
      ]
    },
    {
      "cell_type": "code",
      "source": [
        "import matplotlib.pyplot as mp\n",
        "X=[1,2,4,5,6]\n",
        "Y=[5,9,3,6,1]\n",
        "mp.plot(x,y)\n",
        "mp.xlabel('X-axis')\n",
        "mp.ylabel('Y-axis')\n",
        "mp.title('A simple linear graph')\n",
        "mp.show()"
      ],
      "metadata": {
        "colab": {
          "base_uri": "https://localhost:8080/",
          "height": 295
        },
        "id": "aGM25vzaMfQH",
        "outputId": "2428f115-39cc-43a0-9831-4f239760150f"
      },
      "execution_count": 17,
      "outputs": [
        {
          "output_type": "display_data",
          "data": {
            "text/plain": [
              "<Figure size 432x288 with 1 Axes>"
            ],
            "image/png": "[encoded data removed]"
          },
          "metadata": {
            "needs_background": "light"
          }
        }
      ]
    },
    {
      "cell_type": "code",
      "source": [
        "import matplotlib.pyplot as plt\n",
        "\n",
        "left_coordinates=[1,2,3,4,5]\n",
        "heights=[10,20,30,15,40]\n",
        "bar_labels=['One','Two','Three','Four','Five']\n",
        "plt.bar(left_coordinates,heights,tick_label=bar_labels,width=0.6,color=['red','black'])\n",
        "plt.xlabel('X-axis')\n",
        "plt.ylabel('Y-axis')\n",
        "plt.title(\"A simple bar graph\")\n",
        "plt.show()"
      ],
      "metadata": {
        "colab": {
          "base_uri": "https://localhost:8080/",
          "height": 295
        },
        "id": "X6-rObl8P76c",
        "outputId": "1178dd64-d8ce-413c-ba9b-a4a94770a2ab"
      },
      "execution_count": 19,
      "outputs": [
        {
          "output_type": "display_data",
          "data": {
            "text/plain": [
              "<Figure size 432x288 with 1 Axes>"
            ],
            "image/png": "[encoded data removed]"
          },
          "metadata": {
            "needs_background": "light"
          }
        }
      ]
    },
    {
      "cell_type": "code",
      "source": [
        "import matplotlib.pyplot as mp\n",
        "import numpy as np\n",
        "\n",
        "Y=np.array([15,45,7,8,25])\n",
        "mp.pie(Y)\n",
        "mp.show()"
      ],
      "metadata": {
        "colab": {
          "base_uri": "https://localhost:8080/",
          "height": 248
        },
        "id": "zP1s1fIOteVs",
        "outputId": "6d4cbac9-b46c-49c9-aec7-be6a91e5f8bb"
      },
      "execution_count": 4,
      "outputs": [
        {
          "output_type": "display_data",
          "data": {
            "text/plain": [
              "<Figure size 432x288 with 1 Axes>"
            ],
            "image/png": "[encoded data removed]"
          },
          "metadata": {}
        }
      ]
    }
  ]
}