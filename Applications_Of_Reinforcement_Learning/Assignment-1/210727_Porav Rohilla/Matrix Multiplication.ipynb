{
 "cells": [
  {
   "cell_type": "code",
   "execution_count": null,
   "metadata": {},
   "outputs": [],
   "source": [
    "# MATRIX MULTIPLICATION WITHOUT USING NUMPY"
   ]
  },
  {
   "cell_type": "code",
   "execution_count": null,
   "metadata": {},
   "outputs": [],
   "source": [
    "import numpy as np\n",
    "from numpy import random\n",
    "\n",
    "x= random.randint(100)\n",
    "y=random.randint(100)\n",
    "z=random.randint(100)\n",
    "m1=random.randint(100, size=(x,y))\n",
    "m2=random.randint(100, size=(y,z))\n",
    "\n",
    "\n",
    "mul_matrix=random.randint(1, size=(x,z))\n",
    "for i in range(x):\n",
    "    for j in range(z):\n",
    "        for k in range(y):\n",
    "            mul_matrix[i][j]+=m1[i][k]+m2[k][j]\n",
    "print(mul_matrix)"
   ]
  },
  {
   "cell_type": "markdown",
   "metadata": {},
   "source": [
    "# MATRIX MULTIPLICATION USING NUMPY"
   ]
  },
  {
   "cell_type": "code",
   "execution_count": null,
   "metadata": {},
   "outputs": [],
   "source": [
    "import numpy as np\n",
    "from numpy import random\n",
    "\n",
    "x= random.randint(100)\n",
    "y=random.randint(100)\n",
    "z=random.randint(100)\n",
    "m1=random.randint(100, size=(x,y))\n",
    "m2=random.randint(100, size=(y,z))\n",
    "\n",
    "\n",
    "mul_matrix= np.dot(m1,m2)\n",
    "print(mul_matrix)"
   ]
  }
 ],
 "metadata": {
  "kernelspec": {
   "display_name": "Python 3.10.5 64-bit",
   "language": "python",
   "name": "python3"
  },
  "language_info": {
   "name": "python",
   "version": "3.10.5"
  },
  "orig_nbformat": 4,
  "vscode": {
   "interpreter": {
    "hash": "1c9155b390a856af6d5480c6595dc541f45b3de0f4ac811d8cd4cdadb94bea32"
   }
  }
 },
 "nbformat": 4,
 "nbformat_minor": 2
}
