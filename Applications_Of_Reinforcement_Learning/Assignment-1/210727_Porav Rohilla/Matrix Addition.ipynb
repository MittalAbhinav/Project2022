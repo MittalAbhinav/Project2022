{
 "cells": [
  {
   "cell_type": "code",
   "execution_count": 2,
   "metadata": {},
   "outputs": [
    {
     "name": "stdout",
     "output_type": "stream",
     "text": [
      "[ 3  5  7  9 11]\n"
     ]
    }
   ],
   "source": [
    "import numpy as np\n",
    "from numpy import random\n",
    "\n",
    "x= random.randint(100)\n",
    "y=random.randint(100)\n",
    "m1=random.randint(100, size=(x,y))\n",
    "m2=random.randint(100, size=(x,y))\n"
   ]
  },
  {
   "cell_type": "markdown",
   "metadata": {},
   "source": [
    "# MATRIX ADDITION USING NUMPY "
   ]
  },
  {
   "cell_type": "code",
   "execution_count": 11,
   "metadata": {},
   "outputs": [
    {
     "name": "stdout",
     "output_type": "stream",
     "text": [
      "[[164 111 113 ...  54  99  73]\n",
      " [144  47 106 ... 113  14  43]\n",
      " [150 126  98 ... 147  92 145]\n",
      " ...\n",
      " [ 40 150 130 ...  46 101  59]\n",
      " [108  93  67 ... 136  81 100]\n",
      " [172  78 125 ...  99  80  29]]\n"
     ]
    }
   ],
   "source": [
    "import numpy as np\n",
    "from numpy import random\n",
    "\n",
    "x= random.randint(100)\n",
    "y=random.randint(100)\n",
    "m1=random.randint(100, size=(x,y))\n",
    "m2=random.randint(100, size=(x,y))\n",
    "add_matrix=np.add(m1,m2)\n",
    "print(add_matrix)"
   ]
  },
  {
   "cell_type": "markdown",
   "metadata": {},
   "source": [
    "# MATRIX ADDITION WITHOUT USING NUMPY"
   ]
  },
  {
   "cell_type": "code",
   "execution_count": 1,
   "metadata": {},
   "outputs": [
    {
     "ename": "ModuleNotFoundError",
     "evalue": "No module named 'numpy'",
     "output_type": "error",
     "traceback": [
      "\u001b[1;31m---------------------------------------------------------------------------\u001b[0m",
      "\u001b[1;31mModuleNotFoundError\u001b[0m                       Traceback (most recent call last)",
      "\u001b[1;32mc:\\Users\\rohil\\Desktop\\Reinforcement Learning ACA\\Matrix Addition.ipynb Cell 5'\u001b[0m in \u001b[0;36m<cell line: 1>\u001b[1;34m()\u001b[0m\n\u001b[1;32m----> <a href='vscode-notebook-cell:/c%3A/Users/rohil/Desktop/Reinforcement%20Learning%20ACA/Matrix%20Addition.ipynb#ch0000004?line=0'>1</a>\u001b[0m \u001b[39mimport\u001b[39;00m \u001b[39mnumpy\u001b[39;00m \u001b[39mas\u001b[39;00m \u001b[39mnp\u001b[39;00m\n\u001b[0;32m      <a href='vscode-notebook-cell:/c%3A/Users/rohil/Desktop/Reinforcement%20Learning%20ACA/Matrix%20Addition.ipynb#ch0000004?line=1'>2</a>\u001b[0m \u001b[39mfrom\u001b[39;00m \u001b[39mnumpy\u001b[39;00m \u001b[39mimport\u001b[39;00m random\n\u001b[0;32m      <a href='vscode-notebook-cell:/c%3A/Users/rohil/Desktop/Reinforcement%20Learning%20ACA/Matrix%20Addition.ipynb#ch0000004?line=3'>4</a>\u001b[0m x\u001b[39m=\u001b[39m random\u001b[39m.\u001b[39mrandint(\u001b[39m100\u001b[39m)\n",
      "\u001b[1;31mModuleNotFoundError\u001b[0m: No module named 'numpy'"
     ]
    }
   ],
   "source": [
    "import numpy as np\n",
    "from numpy import random\n",
    "\n",
    "x= random.randint(100)\n",
    "y=random.randint(100)\n",
    "m1=random.randint(100, size=(x,y))\n",
    "m2=random.randint(100, size=(x,y))\n",
    "\n",
    "\n",
    "add_matrix=random.randint(1, size=(x,y))\n",
    "for i in range(x):\n",
    "    for j in range(y):\n",
    "        add_matrix[i][j]=m1[i][j]+m2[i][j]\n",
    "print(add_matrix)"
   ]
  }
 ],
 "metadata": {
  "kernelspec": {
   "display_name": "Python 3.10.5 64-bit",
   "language": "python",
   "name": "python3"
  },
  "language_info": {
   "codemirror_mode": {
    "name": "ipython",
    "version": 3
   },
   "file_extension": ".py",
   "mimetype": "text/x-python",
   "name": "python",
   "nbconvert_exporter": "python",
   "pygments_lexer": "ipython3",
   "version": "3.10.5"
  },
  "orig_nbformat": 4,
  "vscode": {
   "interpreter": {
    "hash": "1c9155b390a856af6d5480c6595dc541f45b3de0f4ac811d8cd4cdadb94bea32"
   }
  }
 },
 "nbformat": 4,
 "nbformat_minor": 2
}
