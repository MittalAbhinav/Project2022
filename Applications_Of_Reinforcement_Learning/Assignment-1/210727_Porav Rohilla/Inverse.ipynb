{
 "cells": [
  {
   "cell_type": "markdown",
   "metadata": {},
   "source": [
    "# MATRIX INVERSION"
   ]
  },
  {
   "cell_type": "code",
   "execution_count": 1,
   "metadata": {},
   "outputs": [
    {
     "ename": "ValueError",
     "evalue": "invalid literal for int() with base 10: ''",
     "output_type": "error",
     "traceback": [
      "\u001b[1;31m---------------------------------------------------------------------------\u001b[0m",
      "\u001b[1;31mValueError\u001b[0m                                Traceback (most recent call last)",
      "\u001b[1;32mc:\\Users\\rohil\\Desktop\\Reinforcement Learning ACA\\Inverse.ipynb Cell 2'\u001b[0m in \u001b[0;36m<cell line: 55>\u001b[1;34m()\u001b[0m\n\u001b[0;32m     <a href='vscode-notebook-cell:/c%3A/Users/rohil/Desktop/Reinforcement%20Learning%20ACA/Inverse.ipynb#ch0000002?line=52'>53</a>\u001b[0m                 sign \u001b[39m=\u001b[39m \u001b[39m-\u001b[39m\u001b[39m1\u001b[39m\n\u001b[0;32m     <a href='vscode-notebook-cell:/c%3A/Users/rohil/Desktop/Reinforcement%20Learning%20ACA/Inverse.ipynb#ch0000002?line=53'>54</a>\u001b[0m             adjoint[j][i] \u001b[39m=\u001b[39m sign\u001b[39m*\u001b[39m(determinant(n\u001b[39m-\u001b[39m\u001b[39m1\u001b[39m,temp))\n\u001b[1;32m---> <a href='vscode-notebook-cell:/c%3A/Users/rohil/Desktop/Reinforcement%20Learning%20ACA/Inverse.ipynb#ch0000002?line=54'>55</a>\u001b[0m n \u001b[39m=\u001b[39m \u001b[39mint\u001b[39;49m(\u001b[39minput\u001b[39;49m(\u001b[39m\"\u001b[39;49m\u001b[39mEnter the order of matrix:\u001b[39;49m\u001b[39m\"\u001b[39;49m))\n\u001b[0;32m     <a href='vscode-notebook-cell:/c%3A/Users/rohil/Desktop/Reinforcement%20Learning%20ACA/Inverse.ipynb#ch0000002?line=55'>56</a>\u001b[0m matrix \u001b[39m=\u001b[39m []\n\u001b[0;32m     <a href='vscode-notebook-cell:/c%3A/Users/rohil/Desktop/Reinforcement%20Learning%20ACA/Inverse.ipynb#ch0000002?line=56'>57</a>\u001b[0m \u001b[39mprint\u001b[39m(\u001b[39m\"\u001b[39m\u001b[39mEnter the entries rowwise:\u001b[39m\u001b[39m\"\u001b[39m)\n",
      "\u001b[1;31mValueError\u001b[0m: invalid literal for int() with base 10: ''"
     ]
    }
   ],
   "source": [
    "import time\n",
    "seconds = time.time()\n",
    "\n",
    "\n",
    "def getCofactor(A, temp,  p,  q,  n):\n",
    "    i = 0 \n",
    "    j = 0\n",
    "    for row in range(n):\n",
    "        for col in range(n):\n",
    "            if row!=p and col!=q:\n",
    "                temp[i][j] = A[row][col]\n",
    "                j = j+1\n",
    "                if j==n-1:\n",
    "                    j=0\n",
    "                    i = i+1\n",
    "\n",
    "\n",
    "\n",
    "def determinant(n, matrix):\n",
    "    d = 0\n",
    "    if n==1:\n",
    "        return matrix[0][0]\n",
    "    temp =[]\n",
    "    sign = 1\n",
    "    for i in range(n):          # A for loop for row entries\n",
    "        a =[]\n",
    "        for j in range(n):      # A for loop for column entries\n",
    "            a.append(int(0))\n",
    "        temp.append(a)\n",
    "    for f in range(n):\n",
    "        getCofactor(matrix,temp,0,f,n)\n",
    "        d += sign*matrix[0][f]*determinant(n-1,temp)\n",
    "        sign = -1*sign\n",
    "    return d\n",
    "\n",
    "def adjoin(A , adjoint,n):\n",
    "    if n==1:\n",
    "        adjoint[0][0] = 1\n",
    "        return\n",
    "    temp =[]\n",
    "    sign = 1\n",
    "    for i in range(n):          # A for loop for row entries\n",
    "        a =[]\n",
    "        for j in range(n):      # A for loop for column entries\n",
    "            a.append(int(0))\n",
    "        temp.append(a)\n",
    "    for i in range(n):\n",
    "        for j in range(n):\n",
    "            getCofactor(A,temp,i,j,n)\n",
    "            if (i+j)%2 == 0:\n",
    "                sign = 1\n",
    "            else:\n",
    "                sign = -1\n",
    "            adjoint[j][i] = sign*(determinant(n-1,temp))\n",
    "n = int(input(\"Enter the order of matrix:\"))\n",
    "matrix = []\n",
    "print(\"Enter the entries rowwise:\")\n",
    "  \n",
    "# For user input\n",
    "for i in range(n):          # A for loop for row entries\n",
    "    a =[]\n",
    "    for j in range(n):      # A for loop for column entries\n",
    "         a.append(int(input()))\n",
    "    matrix.append(a)\n",
    "\n",
    "det = determinant(n,matrix)\n",
    "if det == 0:\n",
    "    print(\"Singular matrix\")\n",
    "    quit()\n",
    "adjoint = []\n",
    "for i in range(n):          # A for loop for row entries\n",
    "    a =[]\n",
    "    for j in range(n):      # A for loop for column entries\n",
    "         a.append(int(0))\n",
    "    adjoint.append(a)\n",
    "adjoin(matrix,adjoint,n)\n",
    "for i in range(n):\n",
    "    for j in range(n):\n",
    "        t = adjoint[i][j]/det\n",
    "        print(t , end = \" \")\n",
    "    print()\n",
    "print(\"Seconds since epoch =\", seconds)"
   ]
  }
 ],
 "metadata": {
  "kernelspec": {
   "display_name": "Python 3.10.5 64-bit",
   "language": "python",
   "name": "python3"
  },
  "language_info": {
   "codemirror_mode": {
    "name": "ipython",
    "version": 3
   },
   "file_extension": ".py",
   "mimetype": "text/x-python",
   "name": "python",
   "nbconvert_exporter": "python",
   "pygments_lexer": "ipython3",
   "version": "3.10.5"
  },
  "orig_nbformat": 4,
  "vscode": {
   "interpreter": {
    "hash": "1c9155b390a856af6d5480c6595dc541f45b3de0f4ac811d8cd4cdadb94bea32"
   }
  }
 },
 "nbformat": 4,
 "nbformat_minor": 2
}
