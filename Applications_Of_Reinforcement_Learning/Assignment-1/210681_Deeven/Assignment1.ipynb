{
 "cells": [
  {
   "cell_type": "code",
   "execution_count": 89,
   "metadata": {},
   "outputs": [],
   "source": [
    "\n",
    "import time as t\n",
    "import random as rd\n",
    "import numpy as np"
   ]
  },
  {
   "cell_type": "code",
   "execution_count": 90,
   "metadata": {},
   "outputs": [
    {
     "name": "stdout",
     "output_type": "stream",
     "text": [
      "[[  2.   2.  12. -14. -10. -13.  11.  -7.  17.   2.]\n",
      " [ 12.  -5. -16. -16. -15. -14. -17.  12. -16. -11.]\n",
      " [ -9.  19. -11.  -8.  -7.  10.  -4.  18.  -9.  12.]\n",
      " [ 11.  -7. -10.  11.  -1. -20. -14.  14.  -3. -14.]\n",
      " [ -5.  -9.   9.   4. -11. -14.   3.   8.  19.   9.]\n",
      " [ -3.   5. -11. -12.  15.   2. -12.  12.   8.  -5.]\n",
      " [  9.  -5.  12.  14.   0.  11. -19.  14.  16.  19.]\n",
      " [-20.  13.  -9.   8. -12.   9.  15. -14.   4.  10.]\n",
      " [ -9. -19. -17.  17. -17. -20.   6. -10.  18. -14.]\n",
      " [-19.   3. -19.  -2.  13.  17. -18.   3.  -6. -11.]]\n",
      "10\n"
     ]
    }
   ],
   "source": [
    "# random matrix\n",
    "\n",
    "def fun(n):\n",
    "    mat = np.zeros((n, n))\n",
    "    for i in range(n):\n",
    "        for j in range(n):\n",
    "            mat[i][j] = rd.randint(-20, 20)\n",
    "    return mat\n",
    "\n",
    "n = rd.randint(2, 10)\n",
    "arr = fun(n)\n",
    "print(arr)\n",
    "print(n)"
   ]
  },
  {
   "cell_type": "code",
   "execution_count": 91,
   "metadata": {},
   "outputs": [
    {
     "name": "stdout",
     "output_type": "stream",
     "text": [
      "matrix 1 is\n",
      " [[  5.  11.  -1.  14. -16.  20. -19.   0.  17.   8.]\n",
      " [  5.   1. -18. -17.  14.  -2.  -9.  11.  -8. -19.]\n",
      " [ -4.  11.  -4. -18.  17.   9.  19.  -5. -15. -16.]\n",
      " [ 18. -12.  12.  -2.   3.  -7. -11.  17.  -8.   4.]\n",
      " [ -6. -18.   3. -11. -18. -16.   8.  13. -19.  -1.]\n",
      " [ 10.   6.  14.  14. -10.  -8.  15.  -8.  17.  -2.]\n",
      " [  3.  19.  10. -18.  -9. -16.  13. -14.  -8.  14.]\n",
      " [  1.  -8.  14.   3.   9.  -3.   1.  -5. -15.  -9.]\n",
      " [-10.  18.  -3.   3.   0.  -8.  18.  19.  -4.  -2.]\n",
      " [  7.   1.   3.   6. -12.   4. -12.  -8.   2.  16.]] \n",
      "\n",
      "matrix 2 is\n",
      " [[  5. -10. -18. -17.   0.  10.   1.   5.  16.  13.]\n",
      " [ 19. -13. -16.  10.   6. -18.   9. -17. -15.  14.]\n",
      " [  2.  -3.  10.  -4. -14. -16. -20.  -6.  12.   3.]\n",
      " [  1. -14. -19.   1. -18. -11.  -1.  15.  12.  10.]\n",
      " [  6.   7.  -5. -17. -14.   5.   4.   4.   7.  -1.]\n",
      " [-13.  -2. -18. -14.  14.   5.   4.  -5. -11.  12.]\n",
      " [  2.  16.  17.  -4.  20. -15. -19.  -4. -17.   6.]\n",
      " [ 15.  -6. -10.  15.   5.  13.  14.  17.  14. -16.]\n",
      " [  2.   6.   1.  -9.  -8.  -7.  11.  11.  -4.  18.]\n",
      " [ -5. -16.   6. -14.  11. -16.  17.  10. -17. -15.]] \n",
      "\n",
      "matrix obtained by multiplying matrix 1 and matrix 2 is\n",
      " [[ -154.  -868. -1080.  -154.   -96.  -228.   810.   233.  -142.   684.]\n",
      " [  327.   377.  -382.   309.    70.  1205.   353.  -128.   427.  -272.]\n",
      " [  161.   762.   213.   -31.   633.   165.  -571.  -916.  -534.   165.]\n",
      " [  190.  -387.  -204.  -114.  -371.   584.    83.   524.  1075.  -547.]\n",
      " [  -99.   297.   994.   777.   442.   365.  -549.    71.   267. -1092.]\n",
      " [  204.   -48.   132.  -175.  -282.  -892.  -546.    45.    23.   864.]\n",
      " [  262.   -66.   854.    72.   608.  -944.  -401.  -832.  -843.   -80.]\n",
      " [  -81.   179.   200.   -79.  -450.    96.  -737.  -191.   562.  -121.]\n",
      " [  716.    31.    49.   754.   449.  -412.    23.   -66.  -332.  -191.]\n",
      " [ -278.  -656.  -264.  -281.   -40.  -296.   328.   116.  -111.    86.]] \n",
      "\n",
      "time taken is 0 ns\n"
     ]
    }
   ],
   "source": [
    "# multiplication\n",
    "\n",
    "def multiply(arr1, arr2, n):\n",
    "    m = np.zeros((n, n))\n",
    "    for i in range(n):\n",
    "        for j in range(n):\n",
    "            for k in range(n):\n",
    "                m[i][j] += arr1[i][k]*arr2[k][j]\n",
    "    return m\n",
    "\n",
    "arr1 = fun(n)\n",
    "arr2 = fun(n)\n",
    "print(\"matrix 1 is\\n\", arr1, \"\\n\")\n",
    "print(\"matrix 2 is\\n\", arr2, \"\\n\")\n",
    "x = t.time_ns()\n",
    "m = multiply(arr1, arr2, n)\n",
    "y = t.time_ns()\n",
    "print(\"matrix obtained by multiplying matrix 1 and matrix 2 is\\n\", m, \"\\n\")\n",
    "print(\"time taken is\", (y-x), \"ns\")"
   ]
  },
  {
   "cell_type": "code",
   "execution_count": 92,
   "metadata": {},
   "outputs": [
    {
     "name": "stdout",
     "output_type": "stream",
     "text": [
      "[[ -154.  -868. -1080.  -154.   -96.  -228.   810.   233.  -142.   684.]\n",
      " [  327.   377.  -382.   309.    70.  1205.   353.  -128.   427.  -272.]\n",
      " [  161.   762.   213.   -31.   633.   165.  -571.  -916.  -534.   165.]\n",
      " [  190.  -387.  -204.  -114.  -371.   584.    83.   524.  1075.  -547.]\n",
      " [  -99.   297.   994.   777.   442.   365.  -549.    71.   267. -1092.]\n",
      " [  204.   -48.   132.  -175.  -282.  -892.  -546.    45.    23.   864.]\n",
      " [  262.   -66.   854.    72.   608.  -944.  -401.  -832.  -843.   -80.]\n",
      " [  -81.   179.   200.   -79.  -450.    96.  -737.  -191.   562.  -121.]\n",
      " [  716.    31.    49.   754.   449.  -412.    23.   -66.  -332.  -191.]\n",
      " [ -278.  -656.  -264.  -281.   -40.  -296.   328.   116.  -111.    86.]]\n",
      "yes\n"
     ]
    }
   ],
   "source": [
    "# verification of multiplicatin\n",
    "\n",
    "ver_m = np.matmul(arr1, arr2)\n",
    "print(ver_m)\n",
    "if (np.array_equiv(m, ver_m)):\n",
    "    print(\"yes\")\n",
    "else:\n",
    "    print(\"no\")"
   ]
  },
  {
   "cell_type": "code",
   "execution_count": 93,
   "metadata": {},
   "outputs": [
    {
     "name": "stdout",
     "output_type": "stream",
     "text": [
      "matrix obtained by adding matrix 1 and matrix 2 is\n",
      " [[ 10.   1. -19.  -3. -16.  30. -18.   5.  33.  21.]\n",
      " [ 24. -12. -34.  -7.  20. -20.   0.  -6. -23.  -5.]\n",
      " [ -2.   8.   6. -22.   3.  -7.  -1. -11.  -3. -13.]\n",
      " [ 19. -26.  -7.  -1. -15. -18. -12.  32.   4.  14.]\n",
      " [  0. -11.  -2. -28. -32. -11.  12.  17. -12.  -2.]\n",
      " [ -3.   4.  -4.   0.   4.  -3.  19. -13.   6.  10.]\n",
      " [  5.  35.  27. -22.  11. -31.  -6. -18. -25.  20.]\n",
      " [ 16. -14.   4.  18.  14.  10.  15.  12.  -1. -25.]\n",
      " [ -8.  24.  -2.  -6.  -8. -15.  29.  30.  -8.  16.]\n",
      " [  2. -15.   9.  -8.  -1. -12.   5.   2. -15.   1.]] \n",
      "\n",
      "time taken is 0 ns\n"
     ]
    }
   ],
   "source": [
    "# Addition\n",
    "def add(arr1, arr2, n):\n",
    "    mat = np.zeros((n, n))\n",
    "    for i in range(n):\n",
    "        for j in  range(n):\n",
    "            mat[i][j] = arr1[i][j] + arr2[i][j]\n",
    "    return mat\n",
    "\n",
    "x = t.time_ns()\n",
    "ad_mat = add(arr1, arr2, n)\n",
    "y = t.time_ns()\n",
    "print(\"matrix obtained by adding matrix 1 and matrix 2 is\\n\", ad_mat, \"\\n\")\n",
    "print(\"time taken is\", (y-x), \"ns\")"
   ]
  },
  {
   "cell_type": "code",
   "execution_count": 94,
   "metadata": {},
   "outputs": [
    {
     "name": "stdout",
     "output_type": "stream",
     "text": [
      "[[ 10.   1. -19.  -3. -16.  30. -18.   5.  33.  21.]\n",
      " [ 24. -12. -34.  -7.  20. -20.   0.  -6. -23.  -5.]\n",
      " [ -2.   8.   6. -22.   3.  -7.  -1. -11.  -3. -13.]\n",
      " [ 19. -26.  -7.  -1. -15. -18. -12.  32.   4.  14.]\n",
      " [  0. -11.  -2. -28. -32. -11.  12.  17. -12.  -2.]\n",
      " [ -3.   4.  -4.   0.   4.  -3.  19. -13.   6.  10.]\n",
      " [  5.  35.  27. -22.  11. -31.  -6. -18. -25.  20.]\n",
      " [ 16. -14.   4.  18.  14.  10.  15.  12.  -1. -25.]\n",
      " [ -8.  24.  -2.  -6.  -8. -15.  29.  30.  -8.  16.]\n",
      " [  2. -15.   9.  -8.  -1. -12.   5.   2. -15.   1.]]\n",
      "yes\n"
     ]
    }
   ],
   "source": [
    "# verification of additon\n",
    "\n",
    "ver_ad_mat = np.add(arr1, arr2)\n",
    "print(ver_ad_mat)\n",
    "if (np.array_equiv(ad_mat, ver_ad_mat)):\n",
    "    print(\"yes\")\n",
    "else:\n",
    "    print(\"no\")"
   ]
  },
  {
   "cell_type": "code",
   "execution_count": 95,
   "metadata": {},
   "outputs": [
    {
     "name": "stdout",
     "output_type": "stream",
     "text": [
      "The inverse of array1 is \n",
      " [[-2.20441517e-02  2.23800031e-02  2.99822588e-02  1.98960679e-02\n",
      "  -3.80496614e-05  3.55230419e-02 -1.99966988e-02 -1.76854082e-02\n",
      "   4.36363356e-03  7.51390971e-02]\n",
      " [ 1.89558521e-02  1.47680133e-02 -5.51332775e-03 -5.93218041e-03\n",
      "  -1.07099452e-02 -1.43580304e-03  1.88599396e-02  1.86057117e-02\n",
      "   2.07104813e-02 -2.67964028e-04]\n",
      " [ 4.04924418e-02 -2.91183210e-02 -1.11200815e-02  2.00430307e-02\n",
      "  -2.21219549e-03 -1.43697541e-02  3.03212992e-02  2.49253782e-02\n",
      "  -1.64614492e-02 -8.74578405e-02]\n",
      " [-2.33149113e-02  1.16003989e-02 -2.99193239e-03 -1.54076063e-02\n",
      "  -6.09554095e-03  1.70612309e-02 -3.01602859e-02  2.28597435e-02\n",
      "   3.14166304e-02  7.12205157e-02]\n",
      " [-2.28697097e-02 -1.03553659e-02 -4.68482867e-03  1.21385275e-02\n",
      "  -2.99797299e-02 -1.44567231e-02 -1.51562123e-03 -1.82842796e-03\n",
      "   1.78521082e-03 -1.17415970e-02]\n",
      " [ 1.93413545e-02 -2.28756573e-02  3.82396688e-02  1.26949936e-02\n",
      "   5.75068455e-03 -6.11417369e-03 -1.47369855e-02 -1.47360821e-02\n",
      "  -8.73355077e-03  1.33966849e-03]\n",
      " [-2.60462282e-02 -1.52447464e-02  3.37067478e-02  6.00712324e-03\n",
      "   6.55638881e-03  2.06400702e-02 -2.10058783e-02 -2.95261342e-02\n",
      "   7.07615341e-03  3.27709400e-02]\n",
      " [ 1.34266897e-02 -9.73435945e-03  7.27521663e-04  2.46089988e-02\n",
      "   3.54014457e-03 -8.77587069e-03 -2.48491969e-03 -1.37803479e-02\n",
      "   1.28466222e-02 -2.85446628e-02]\n",
      " [ 1.39109816e-02 -1.50044018e-02 -1.76160679e-02  7.78543974e-03\n",
      "  -9.88782400e-03  4.44108453e-04  1.41565539e-02 -2.74830467e-02\n",
      "  -2.46926584e-02 -7.58309019e-02]\n",
      " [-2.69374854e-02 -2.60775160e-02  5.20662613e-03  1.54528247e-02\n",
      "  -1.26124938e-02 -1.74326210e-02 -3.02423421e-03 -2.99580973e-02\n",
      "   6.44109480e-03  2.99776659e-02]]\n",
      "The time taken for finding inverse of matrix 1 is  199158830800 ns\n"
     ]
    }
   ],
   "source": [
    "def tran(a):\n",
    " tran=np.zeros((n,n))\n",
    " for i in range(n) :\n",
    "        for j in range(n) :\n",
    "                tran[i][j]=a[j][i]\n",
    " return tran\n",
    "\n",
    "def cof(a,x,y):\n",
    "    cof=np.zeros((len(a)-1,len(a)-1))\n",
    "    for i in range(len(a)) :\n",
    "        for j in range(len(a)) :\n",
    "           if (i<x and j<y):\n",
    "              cof[i][j]=a[i][j]\n",
    "           elif (i>x and j<y):\n",
    "              cof[i-1][j]=a[i][j]   \n",
    "           elif (i<x and j>y):\n",
    "              cof[i][j-1]=a[i][j]  \n",
    "           elif (i>x and j>y):\n",
    "              cof[i-1][j-1]=a[i][j]  \n",
    "    return cof\n",
    "\n",
    "def det(q):\n",
    "    if (len(q)==2):\n",
    "        return q[0][0]*q[1][1]-q[0][1]*q[1][0]\n",
    "    sum= 0\n",
    "    for i in range(len(q)):\n",
    "        sum=sum+(((-1)**(i))*q[0][i]*det(cof(q,0,i)))\n",
    "    return sum\n",
    "\n",
    "def inv(q):\n",
    "    if (det(q)==0):\n",
    "     print(\"The matrix isnot invertible\")\n",
    "    else :\n",
    "      k=det(q)\n",
    "      inv=np.zeros((n,n))\n",
    "      for i in range(len(q)):\n",
    "        for j in range(len(q)):\n",
    "         inv[i][j]=((-1)**(i+j))*det(cof(q,i,j))/k\n",
    "      return tran(inv)\n",
    "x=t.time_ns()\n",
    "inva = inv(arr1)\n",
    "y=t.time_ns()\n",
    "print(\"The inverse of array1 is \\n\",inva)\n",
    "print(\"The time taken for finding inverse of matrix 1 is \",(y-x),\"ns\")"
   ]
  },
  {
   "cell_type": "code",
   "execution_count": 96,
   "metadata": {},
   "outputs": [
    {
     "data": {
      "text/plain": [
       "[<matplotlib.lines.Line2D at 0x1e17fc31ab0>]"
      ]
     },
     "execution_count": 96,
     "metadata": {},
     "output_type": "execute_result"
    },
    {
     "data": {
      "image/png": "[encoded data removed]",
      "text/plain": [
       "<Figure size 432x288 with 1 Axes>"
      ]
     },
     "metadata": {
      "needs_background": "light"
     },
     "output_type": "display_data"
    }
   ],
   "source": [
    "# graphs1\n",
    "import matplotlib.pyplot as mtb\n",
    "\n",
    "x = [1, 2, 3, 4, 5]\n",
    "y = [23, 65, 7, 111, 312]\n",
    "mtb.plot(x, y)"
   ]
  },
  {
   "cell_type": "code",
   "execution_count": 97,
   "metadata": {},
   "outputs": [
    {
     "data": {
      "text/plain": [
       "[<matplotlib.lines.Line2D at 0x1e17fcc6230>]"
      ]
     },
     "execution_count": 97,
     "metadata": {},
     "output_type": "execute_result"
    },
    {
     "data": {
      "image/png": "[encoded data removed]",
      "text/plain": [
       "<Figure size 432x288 with 1 Axes>"
      ]
     },
     "metadata": {
      "needs_background": "light"
     },
     "output_type": "display_data"
    }
   ],
   "source": [
    "# graph 2\n",
    "from math import *\n",
    "x = np.arange(-10, 10, 0.1)\n",
    "y = [(sqrt(100-i**2)) for i in x]\n",
    "mtb.plot(x, y)"
   ]
  },
  {
   "cell_type": "code",
   "execution_count": 98,
   "metadata": {},
   "outputs": [
    {
     "data": {
      "text/plain": [
       "[<matplotlib.lines.Line2D at 0x1e17fd28df0>]"
      ]
     },
     "execution_count": 98,
     "metadata": {},
     "output_type": "execute_result"
    },
    {
     "data": {
      "image/png": "[encoded data removed]",
      "text/plain": [
       "<Figure size 432x288 with 1 Axes>"
      ]
     },
     "metadata": {
      "needs_background": "light"
     },
     "output_type": "display_data"
    }
   ],
   "source": [
    "# graph 3\n",
    "x = np.arange(1, 10, 0.1)\n",
    "y = np.log10(x)\n",
    "mtb.plot(x, y)"
   ]
  }
 ],
 "metadata": {
  "kernelspec": {
   "display_name": "Python 3.10.4 64-bit",
   "language": "python",
   "name": "python3"
  },
  "language_info": {
   "codemirror_mode": {
    "name": "ipython",
    "version": 3
   },
   "file_extension": ".py",
   "mimetype": "text/x-python",
   "name": "python",
   "nbconvert_exporter": "python",
   "pygments_lexer": "ipython3",
   "version": "3.10.4"
  },
  "orig_nbformat": 4,
  "vscode": {
   "interpreter": {
    "hash": "fbc768028c3e6ead51d9a200ddcb2ec858ae62844dcd1994729a8279be9b48f2"
   }
  }
 },
 "nbformat": 4,
 "nbformat_minor": 2
}
