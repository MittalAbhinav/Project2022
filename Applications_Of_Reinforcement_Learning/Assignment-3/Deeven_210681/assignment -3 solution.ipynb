{
 "cells": [
  {
   "cell_type": "code",
   "execution_count": 177,
   "metadata": {},
   "outputs": [],
   "source": [
    "import pandas as pd\n",
    "import numpy as np\n",
    "import matplotlib.pyplot as mp\n",
    "import math as mth"
   ]
  },
  {
   "cell_type": "code",
   "execution_count": 178,
   "metadata": {},
   "outputs": [],
   "source": [
    "#reading files \n",
    "tr = pd.read_csv(\"train.csv\")\n",
    "tr = tr.fillna(0)\n",
    "te = pd.read_csv(\"test.csv\")\n",
    "te = te.fillna(0)\n",
    "key = pd.read_csv(\"gender_submission.csv\")\n",
    "arr = np.array(tr[['Sex','Age','SibSp','Parch','Fare','Survived']])\n",
    "for i in range(len(arr)):\n",
    "    if arr[i][0] == 'male':\n",
    "        arr[i][0] = 1\n",
    "    elif arr[i][0] == 'female':\n",
    "        arr[i][0] = 0\n",
    "arr1 = np.array(te[['Sex','Age','SibSp','Parch','Fare']])\n",
    "for i in range(len(arr1)):\n",
    "    if arr1[i][0] == 'male':\n",
    "        arr1[i][0] = 1\n",
    "    elif arr1[i][0] == 'female':\n",
    "        arr1[i][0] = 0"
   ]
  },
  {
   "cell_type": "code",
   "execution_count": 179,
   "metadata": {},
   "outputs": [],
   "source": [
    "#guess function\n",
    "def guess_fun(a, b):\n",
    "    x = np.dot(a, b)\n",
    "    return 1/(1+mth.exp(-x))"
   ]
  },
  {
   "cell_type": "code",
   "execution_count": 180,
   "metadata": {},
   "outputs": [],
   "source": [
    "#cost function\n",
    "def cost_fun(a, b):\n",
    "    cos = 0.0\n",
    "    for i in range(len(a)):\n",
    "        cos += -(a[i][5]*mth.log(guess_fun(a[i][:5], b)))-((1-a[i][5])*mth.log(1-guess_fun(a[i][:5], b)))\n",
    "    return cos/len(a)"
   ]
  },
  {
   "cell_type": "code",
   "execution_count": 181,
   "metadata": {},
   "outputs": [],
   "source": [
    "#gradient function\n",
    "def grade_fun(n, a, b):\n",
    "    grade = 0.0\n",
    "    for i in range(len(a)):\n",
    "        grade += a[i][n]*(guess_fun(a[i][:5], b)-a[i][5])\n",
    "    return grade/len(a)\n",
    "        \n"
   ]
  },
  {
   "cell_type": "code",
   "execution_count": 182,
   "metadata": {},
   "outputs": [
    {
     "name": "stdout",
     "output_type": "stream",
     "text": [
      "[-1.81640108  0.00550586 -0.24858742 -0.02483853  0.01679508]\n"
     ]
    }
   ],
   "source": [
    "#training\n",
    "w = np.array([0.0, 0.0, 0.0, 0.0, 0.0])\n",
    "lr = 0.007\n",
    "for j in range(5000): \n",
    "           for i in range (5):\n",
    "                  w[i] -= lr*grade_fun(i, arr, w)\n",
    "print(w)\n"
   ]
  },
  {
   "cell_type": "code",
   "execution_count": 183,
   "metadata": {},
   "outputs": [
    {
     "name": "stdout",
     "output_type": "stream",
     "text": [
      "The accuracy is  94.73684210526315 %\n"
     ]
    }
   ],
   "source": [
    "#testing\n",
    "k = 0.0\n",
    "for i in range (len(arr1)):\n",
    "    if(abs(guess_fun(arr1[i], w) - key.loc[i, 'Survived']) < 0.5):\n",
    "        k = k+1\n",
    "print(\"The accuracy is \", k/len(arr1)*100, \"%\")"
   ]
  },
  {
   "cell_type": "code",
   "execution_count": 184,
   "metadata": {},
   "outputs": [
    {
     "name": "stdout",
     "output_type": "stream",
     "text": [
      "Chance of Arpit's survival is  0.17075005059103315\n",
      "Chance of Shreya's survival is  0.9997818844016622\n"
     ]
    }
   ],
   "source": [
    "#example\n",
    "arpit = np.array([1, 20, 0, 0, 7.5])\n",
    "print(\"Chance of Arpit's survival is \", guess_fun(arpit, w))\n",
    "\n",
    "shreya = np.array([0, 19 , 1, 1, 512])\n",
    "print(\"Chance of Shreya's survival is \",guess_fun(shreya,w))"
   ]
  }
 ],
 "metadata": {
  "kernelspec": {
   "display_name": "Python 3.10.4 64-bit",
   "language": "python",
   "name": "python3"
  },
  "language_info": {
   "codemirror_mode": {
    "name": "ipython",
    "version": 3
   },
   "file_extension": ".py",
   "mimetype": "text/x-python",
   "name": "python",
   "nbconvert_exporter": "python",
   "pygments_lexer": "ipython3",
   "version": "3.10.4"
  },
  "orig_nbformat": 4,
  "vscode": {
   "interpreter": {
    "hash": "fbc768028c3e6ead51d9a200ddcb2ec858ae62844dcd1994729a8279be9b48f2"
   }
  }
 },
 "nbformat": 4,
 "nbformat_minor": 2
}
