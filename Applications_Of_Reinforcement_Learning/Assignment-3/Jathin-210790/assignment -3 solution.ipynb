{
 "cells": [
  {
   "cell_type": "code",
   "execution_count": 31,
   "metadata": {},
   "outputs": [],
   "source": [
    "# importing functions\n",
    "import pandas as pd\n",
    "import numpy as np\n",
    "import matplotlib.pyplot as mp\n",
    "import math as m"
   ]
  },
  {
   "cell_type": "code",
   "execution_count": 32,
   "metadata": {},
   "outputs": [],
   "source": [
    "# reading the files\n",
    "tr=pd.read_csv(\"train.csv\")\n",
    "tr=tr.fillna(0)\n",
    "te=pd.read_csv(\"test.csv\")\n",
    "te=te.fillna(0)\n",
    "key=pd.read_csv(\"gender_submission.csv\")\n",
    "arr=np.array(tr[['Sex','Age','SibSp','Parch','Fare','Survived']])\n",
    "for i in range(len(arr)):\n",
    "    if arr[i][0]=='male':\n",
    "        arr[i][0]=1\n",
    "    elif arr[i][0]=='female':\n",
    "        arr[i][0]=0\n",
    "arr1=np.array(te[['Sex','Age','SibSp','Parch','Fare']])\n",
    "for i in range(len(arr1)):\n",
    "    if arr1[i][0]=='male':\n",
    "        arr1[i][0]=1\n",
    "    elif arr1[i][0]=='female':\n",
    "        arr1[i][0]=0"
   ]
  },
  {
   "cell_type": "code",
   "execution_count": 33,
   "metadata": {},
   "outputs": [],
   "source": [
    "# guess function\n",
    "def guess(a,b):\n",
    " c=np.dot(a,b)\n",
    " return 1/(1+m.exp(-c))"
   ]
  },
  {
   "cell_type": "code",
   "execution_count": 34,
   "metadata": {},
   "outputs": [],
   "source": [
    "# cost fuction\n",
    "def cost(a,b):\n",
    "    cos=0.0\n",
    "    for i in range(len(a)):\n",
    "        cos += -(a[i][5]*m.log(guess(a[i][:5],b)))-((1-a[i][5])*m.log(1-guess(a[i][:5],b)))\n",
    "    return cos/len(a)"
   ]
  },
  {
   "cell_type": "code",
   "execution_count": 35,
   "metadata": {},
   "outputs": [],
   "source": [
    "# gradient function\n",
    "def grad(k,a,b):\n",
    "    grad=0.0\n",
    "    for i in range(len(a)):\n",
    "        grad += a[i][k]*(guess(a[i][:5],b)-a[i][5])\n",
    "    return grad/len(a)"
   ]
  },
  {
   "cell_type": "code",
   "execution_count": 36,
   "metadata": {},
   "outputs": [
    {
     "name": "stdout",
     "output_type": "stream",
     "text": [
      "[-1.69719287  0.00373287 -0.25483904 -0.01302049  0.01649274]\n"
     ]
    }
   ],
   "source": [
    "# training\n",
    "w=np.array([0.0,0.0,0.0,0.0,0.0])\n",
    "x=[]\n",
    "y=[]\n",
    "lr=0.007\n",
    "for j in range(4000):\n",
    " x.append(j)\n",
    " y.append(cost(arr,w))\n",
    " for i in range(5):\n",
    "  w[i]-= lr*grad(i,arr,w)\n",
    "print(w)\n"
   ]
  },
  {
   "cell_type": "code",
   "execution_count": 37,
   "metadata": {},
   "outputs": [
    {
     "name": "stdout",
     "output_type": "stream",
     "text": [
      "The accuracy is 94.49760765550239 %\n"
     ]
    }
   ],
   "source": [
    "# testing\n",
    "k=0.0\n",
    "for i in range(len(arr1)):\n",
    "    if(abs(guess(arr1[i],w)-key.loc[i,'Survived'])<0.5):\n",
    "        k=k+1\n",
    "print(\"The accuracy is\",k/len(arr1)*100,\"%\")"
   ]
  },
  {
   "cell_type": "code",
   "execution_count": 38,
   "metadata": {},
   "outputs": [
    {
     "name": "stdout",
     "output_type": "stream",
     "text": [
      " chance of arpit's survival is 0.1825986114525146\n",
      " chance of shreya's survival is 0.9997381157712852\n"
     ]
    }
   ],
   "source": [
    "# predicting\n",
    "arpit=np.array([1,20,0,0,7.5])\n",
    "print(\" chance of arpit's survival is\",guess(arpit,w))\n",
    "shreya=np.array([0,19,1,1,512])\n",
    "print(\" chance of shreya's survival is\",guess(shreya,w))"
   ]
  }
 ],
 "metadata": {
  "kernelspec": {
   "display_name": "Python 3.10.4 64-bit",
   "language": "python",
   "name": "python3"
  },
  "language_info": {
   "codemirror_mode": {
    "name": "ipython",
    "version": 3
   },
   "file_extension": ".py",
   "mimetype": "text/x-python",
   "name": "python",
   "nbconvert_exporter": "python",
   "pygments_lexer": "ipython3",
   "version": "3.10.4"
  },
  "orig_nbformat": 4,
  "vscode": {
   "interpreter": {
    "hash": "23742a4e8944d48a93d44bd4da51eaf469d5ab386391183f487f05d3ea4bf65b"
   }
  }
 },
 "nbformat": 4,
 "nbformat_minor": 2
}
