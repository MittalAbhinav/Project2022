{
 "cells": [
  {
   "cell_type": "markdown",
   "metadata": {},
   "source": [
    "### importing the required libraries"
   ]
  },
  {
   "cell_type": "code",
   "execution_count": 16,
   "metadata": {},
   "outputs": [],
   "source": [
    "import numpy as np\n",
    "import matplotlib.pyplot as plt\n",
    "import math\n",
    "import pandas as pd"
   ]
  },
  {
   "cell_type": "code",
   "execution_count": 17,
   "metadata": {},
   "outputs": [],
   "source": [
    "def ajay(Z):\n",
    "    aja=1/(1+np.exp(-Z))\n",
    "    return aja"
   ]
  },
  {
   "cell_type": "markdown",
   "metadata": {},
   "source": [
    "### cost function"
   ]
  },
  {
   "cell_type": "code",
   "execution_count": 18,
   "metadata": {},
   "outputs": [],
   "source": [
    "def costf(X,y,theta,type):\n",
    "    ypre=X.dot(theta.T)\n",
    "    if type=='lin':\n",
    "        sqr_error=(ypre-y)**2\n",
    "        sumofsquares=np.sum(sqr_error)\n",
    "        return (1/2*X.shape[0])*sumofsquares\n",
    "    elif type=='aja':\n",
    "        term1=-y*(np.log(ajay(ypre)))\n",
    "        term2=-(1-y)*np.log(1-ajay(ypre))\n",
    "        return (1/X.shape[0])*np.sum(term1+term2)"
   ]
  },
  {
   "cell_type": "markdown",
   "metadata": {},
   "source": [
    "### gradient descent"
   ]
  },
  {
   "cell_type": "code",
   "execution_count": 19,
   "metadata": {},
   "outputs": [],
   "source": [
    "def gradient(X,y,theta,cycle,alpha,type):\n",
    "    cost = np.zeros(cycle)\n",
    "    for i in range(cycle):\n",
    "        if type=='lin':\n",
    "            error=((X.dot(theta.T))-y)\n",
    "        elif type=='aja':\n",
    "            error=(ajay(X@theta.T)-y)\n",
    "        multiplyerror = (error.T@X)\n",
    "        theta = theta-(alpha/X.shape[1])*multiplyerror\n",
    "        cost[i] = costf(X, y, theta,type)\n",
    "    return theta,cost"
   ]
  },
  {
   "cell_type": "markdown",
   "metadata": {},
   "source": [
    "### normalisation"
   ]
  },
  {
   "cell_type": "code",
   "execution_count": 20,
   "metadata": {},
   "outputs": [],
   "source": [
    "def normal(mat):\n",
    "    factor1=mat.min()\n",
    "    factor2=mat.max()-mat.min()\n",
    "    matrix_nor = (mat-factor1)/factor2\n",
    "    return matrix_nor,factor1,factor2"
   ]
  },
  {
   "cell_type": "markdown",
   "metadata": {},
   "source": [
    "### concate"
   ]
  },
  {
   "cell_type": "code",
   "execution_count": 21,
   "metadata": {},
   "outputs": [],
   "source": [
    "def concate(mat):\n",
    "    mat=np.concatenate((np.ones((mat.shape[0],1)),mat), axis=1)\n",
    "    return mat"
   ]
  },
  {
   "cell_type": "markdown",
   "metadata": {},
   "source": [
    "### prediction and r2 score"
   ]
  },
  {
   "cell_type": "code",
   "execution_count": 22,
   "metadata": {},
   "outputs": [],
   "source": [
    "def r2s(Ypr, y):\n",
    "    rss = np.sum((Ypr - y) ** 2)\n",
    "    tss = np.sum((y-y.mean()) ** 2)\n",
    "    r2 = 1 - (rss / tss)\n",
    "    return r2\n",
    "\n",
    "def Predict(X,theta,type):\n",
    "    if type=='lin':\n",
    "        Ypr=X.dot(theta.T)\n",
    "    elif type=='aja':\n",
    "        Ypr=X.dot(theta.T)\n",
    "        for i in range(Ypr.shape[0]):\n",
    "         if Ypr[i,0]<0:\n",
    "            Ypr[i,0]=0\n",
    "         elif Ypr[i,0]>0:\n",
    "            Ypr[i,0]=1\n",
    "    return Ypr"
   ]
  },
  {
   "cell_type": "code",
   "execution_count": 23,
   "metadata": {},
   "outputs": [
    {
     "data": {
      "image/png": "[encoded data removed]",
      "text/plain": [
       "<Figure size 432x288 with 1 Axes>"
      ]
     },
     "metadata": {
      "needs_background": "light"
     },
     "output_type": "display_data"
    },
    {
     "name": "stdout",
     "output_type": "stream",
     "text": [
      "[0.96650718]\n",
      "[[0.]] [[1.]]\n"
     ]
    }
   ],
   "source": [
    "def fill_age(url, type, dataset):\n",
    "    if dataset=='train':\n",
    "        labels=['Survived','Pclass','Sex','Age','SibSp','Parch','Fare']\n",
    "        col=3\n",
    "    elif dataset=='test':\n",
    "        labels=['Pclass','Sex','Age','SibSp','Parch','Fare']\n",
    "        col=2\n",
    "    data=pd.read_csv(url, skipinitialspace=True, usecols=labels)\n",
    "    data['Sex'].replace(['male','female'],[1,0],inplace=True)\n",
    "    if type=='median':\n",
    "        data['Age']=data['Age'].fillna(data['Age'].median())\n",
    "    elif type=='interpolate':\n",
    "        data['Age']=data['Age'].interpolate()\n",
    "    elif type=='multivariate':\n",
    "        cycle=1000000\n",
    "        dep_data=data.dropna(axis=0)\n",
    "        dep_data_reg=dep_data.loc[:,['Pclass','Sex','SibSp','Parch','Fare']].values\n",
    "        dep_data_age=dep_data.loc[:,['Age']].values\n",
    "        theta=np.zeros((1,dep_data_reg.shape[1]+1))\n",
    "        data_reg_nor,fac1,fac2=normal(dep_data_reg)\n",
    "        data_reg_nor=concate(data_reg_nor)\n",
    "        theta1, cost=gradient(data_reg_nor,dep_data_age,theta,cycle,0.01,'lin')\n",
    "        age_predict=Predict(data_reg_nor,theta1,'lin')\n",
    "        r2_score=r2s(age_predict,dep_data_age)\n",
    "        \n",
    "        print('r2 ', r2_score)\n",
    "        for i in range(data.shape[0]):\n",
    "            if math.isnan(data.iloc[i,col]):\n",
    "                data_dep=data.loc[i:i+1,['Pclass','Sex','SibSp','Parch','Fare']].values\n",
    "                data_dep=(data_dep-fac1)/fac2\n",
    "                data_dep=concate(data_dep)\n",
    "                data.iloc[i,col]=Predict(data_dep,theta1,'lin')[0,0]\n",
    "    \n",
    "    return data\n",
    "\n",
    "\n",
    "train_data=fill_age(\"file:///home/mas/Downloads/train.csv\",'median','train')\n",
    "data_cat=train_data.loc[:,['Pclass','Sex','Age','SibSp','Parch','Fare']]\n",
    "data_survive=train_data.loc[:,['Survived']]\n",
    "theta=np.array([[0,0,0,0,0,0,0]])\n",
    "data_cat,fac1,fac2=normal(data_cat)\n",
    "data_cat=concate(data_cat)\n",
    "theta,cost=gradient(data_cat,data_survive,theta,500,0.01,'aja')\n",
    "survive_predict=Predict(data_cat,theta,'aja')\n",
    "plt.plot(range(500),cost)\n",
    "plt.show()\n",
    "\n",
    "test_data=fill_age(\"file:///home/mas/Downloads/test.csv\",'median','test')\n",
    "test_cat=test_data.loc[:,['Pclass','Sex','Age','SibSp','Parch','Fare']].values\n",
    "test_cat=(test_cat-np.array(fac1))/np.array(fac2)\n",
    "test_cat=concate(test_cat)\n",
    "test_predict=Predict(test_cat,theta,'aja')\n",
    "\n",
    "df=pd.read_csv(\"file:///home/mas/Downloads/gender_submission.csv\",skipinitialspace=True, usecols=['Survived']).values\n",
    "print(sum(test_predict==df)/len(df))\n",
    "\n",
    "query_arpit=concate((np.array([[3,1,20,0,0,7.5]])-np.array(fac1))/np.array(fac2))\n",
    "query_shreya=concate((np.array([[1,0,19,1,1,512]])-np.array(fac1))/np.array(fac2))\n",
    "qa=Predict(query_arpit,theta,'aja')\n",
    "qs=Predict(query_shreya,theta,'aja')\n",
    "print(qa,qs)"
   ]
  }
 ],
 "metadata": {
  "kernelspec": {
   "display_name": "Python 3.10.4 64-bit",
   "language": "python",
   "name": "python3"
  },
  "language_info": {
   "codemirror_mode": {
    "name": "ipython",
    "version": 3
   },
   "file_extension": ".py",
   "mimetype": "text/x-python",
   "name": "python",
   "nbconvert_exporter": "python",
   "pygments_lexer": "ipython3",
   "version": "3.10.4"
  },
  "orig_nbformat": 4,
  "vscode": {
   "interpreter": {
    "hash": "916dbcbb3f70747c44a77c7bcd40155683ae19c65e1c03b4aa3499c5328201f1"
   }
  }
 },
 "nbformat": 4,
 "nbformat_minor": 2
}
